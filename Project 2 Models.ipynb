{
 "cells": [
  {
   "cell_type": "code",
   "execution_count": 117,
   "metadata": {},
   "outputs": [],
   "source": [
    "import pandas as pd\n",
    "import numpy as np\n",
    "import matplotlib.pyplot as plt\n",
    "from sklearn.preprocessing import StandardScaler\n",
    "from sklearn.feature_selection import RFECV\n",
    "from sklearn.linear_model import LogisticRegression\n",
    "from sklearn.ensemble import RandomForestClassifier, AdaBoostClassifier\n",
    "from sklearn.model_selection import train_test_split\n",
    "from sklearn.utils import resample\n",
    "from sklearn.metrics import accuracy_score, confusion_matrix, recall_score, roc_auc_score, roc_curve, auc\n",
    "from xgboost import XGBClassifier\n",
    "from sklearn.neural_network import MLPClassifier\n",
    "from sklearn.tree import DecisionTreeClassifier\n",
    "from sklearn.svm import SVC\n",
    "from sklearn.model_selection import RandomizedSearchCV\n",
    "start_time = pd.datetime.now()"
   ]
  },
  {
   "cell_type": "code",
   "execution_count": 2,
   "metadata": {},
   "outputs": [],
   "source": [
    "df = pd.read_csv('df34var.csv', index_col=0)"
   ]
  },
  {
   "cell_type": "code",
   "execution_count": 3,
   "metadata": {},
   "outputs": [
    {
     "data": {
      "text/html": [
       "<div>\n",
       "<style scoped>\n",
       "    .dataframe tbody tr th:only-of-type {\n",
       "        vertical-align: middle;\n",
       "    }\n",
       "\n",
       "    .dataframe tbody tr th {\n",
       "        vertical-align: top;\n",
       "    }\n",
       "\n",
       "    .dataframe thead th {\n",
       "        text-align: right;\n",
       "    }\n",
       "</style>\n",
       "<table border=\"1\" class=\"dataframe\">\n",
       "  <thead>\n",
       "    <tr style=\"text-align: right;\">\n",
       "      <th></th>\n",
       "      <th>record</th>\n",
       "      <th>date</th>\n",
       "      <th>address-zip5-homephone//days_since</th>\n",
       "      <th>address-zip5-homephone//prev_d14_count</th>\n",
       "      <th>address-zip5-homephone//prev_d30_count</th>\n",
       "      <th>address-zip5-homephone//prev_d7_count</th>\n",
       "      <th>address-zip5//days_since</th>\n",
       "      <th>address-zip5//prev_d0_count</th>\n",
       "      <th>address-zip5//prev_d14_count</th>\n",
       "      <th>address-zip5//prev_d1_d14_avg</th>\n",
       "      <th>...</th>\n",
       "      <th>ssn-name-dob//prev_d3_count</th>\n",
       "      <th>ssn-name//days_since</th>\n",
       "      <th>ssn-name//prev_d14_count</th>\n",
       "      <th>ssn-name//prev_d30_count</th>\n",
       "      <th>ssn//days_since</th>\n",
       "      <th>ssn//prev_d14_count</th>\n",
       "      <th>ssn//prev_d1_d30_avg</th>\n",
       "      <th>ssn//prev_d3_count</th>\n",
       "      <th>ssn//prev_d7_count</th>\n",
       "      <th>fraud_label</th>\n",
       "    </tr>\n",
       "  </thead>\n",
       "  <tbody>\n",
       "    <tr>\n",
       "      <th>0</th>\n",
       "      <td>1</td>\n",
       "      <td>2016-01-01</td>\n",
       "      <td>0.0</td>\n",
       "      <td>1</td>\n",
       "      <td>1</td>\n",
       "      <td>1</td>\n",
       "      <td>0.0</td>\n",
       "      <td>1</td>\n",
       "      <td>1</td>\n",
       "      <td>14.0</td>\n",
       "      <td>...</td>\n",
       "      <td>1</td>\n",
       "      <td>0.0</td>\n",
       "      <td>1</td>\n",
       "      <td>1</td>\n",
       "      <td>0.0</td>\n",
       "      <td>1</td>\n",
       "      <td>30.0</td>\n",
       "      <td>1</td>\n",
       "      <td>1</td>\n",
       "      <td>0</td>\n",
       "    </tr>\n",
       "    <tr>\n",
       "      <th>1</th>\n",
       "      <td>2</td>\n",
       "      <td>2016-01-01</td>\n",
       "      <td>0.0</td>\n",
       "      <td>1</td>\n",
       "      <td>1</td>\n",
       "      <td>1</td>\n",
       "      <td>0.0</td>\n",
       "      <td>1</td>\n",
       "      <td>1</td>\n",
       "      <td>14.0</td>\n",
       "      <td>...</td>\n",
       "      <td>1</td>\n",
       "      <td>0.0</td>\n",
       "      <td>1</td>\n",
       "      <td>1</td>\n",
       "      <td>0.0</td>\n",
       "      <td>1</td>\n",
       "      <td>30.0</td>\n",
       "      <td>1</td>\n",
       "      <td>1</td>\n",
       "      <td>1</td>\n",
       "    </tr>\n",
       "    <tr>\n",
       "      <th>2</th>\n",
       "      <td>3</td>\n",
       "      <td>2016-01-01</td>\n",
       "      <td>0.0</td>\n",
       "      <td>1</td>\n",
       "      <td>1</td>\n",
       "      <td>1</td>\n",
       "      <td>0.0</td>\n",
       "      <td>1</td>\n",
       "      <td>1</td>\n",
       "      <td>14.0</td>\n",
       "      <td>...</td>\n",
       "      <td>1</td>\n",
       "      <td>0.0</td>\n",
       "      <td>1</td>\n",
       "      <td>1</td>\n",
       "      <td>0.0</td>\n",
       "      <td>1</td>\n",
       "      <td>30.0</td>\n",
       "      <td>1</td>\n",
       "      <td>1</td>\n",
       "      <td>0</td>\n",
       "    </tr>\n",
       "    <tr>\n",
       "      <th>3</th>\n",
       "      <td>4</td>\n",
       "      <td>2016-01-01</td>\n",
       "      <td>0.0</td>\n",
       "      <td>1</td>\n",
       "      <td>1</td>\n",
       "      <td>1</td>\n",
       "      <td>0.0</td>\n",
       "      <td>1</td>\n",
       "      <td>1</td>\n",
       "      <td>14.0</td>\n",
       "      <td>...</td>\n",
       "      <td>1</td>\n",
       "      <td>0.0</td>\n",
       "      <td>1</td>\n",
       "      <td>1</td>\n",
       "      <td>0.0</td>\n",
       "      <td>1</td>\n",
       "      <td>30.0</td>\n",
       "      <td>1</td>\n",
       "      <td>1</td>\n",
       "      <td>0</td>\n",
       "    </tr>\n",
       "    <tr>\n",
       "      <th>4</th>\n",
       "      <td>5</td>\n",
       "      <td>2016-01-01</td>\n",
       "      <td>0.0</td>\n",
       "      <td>1</td>\n",
       "      <td>1</td>\n",
       "      <td>1</td>\n",
       "      <td>0.0</td>\n",
       "      <td>1</td>\n",
       "      <td>1</td>\n",
       "      <td>14.0</td>\n",
       "      <td>...</td>\n",
       "      <td>1</td>\n",
       "      <td>0.0</td>\n",
       "      <td>1</td>\n",
       "      <td>1</td>\n",
       "      <td>0.0</td>\n",
       "      <td>1</td>\n",
       "      <td>30.0</td>\n",
       "      <td>1</td>\n",
       "      <td>1</td>\n",
       "      <td>0</td>\n",
       "    </tr>\n",
       "  </tbody>\n",
       "</table>\n",
       "<p>5 rows × 37 columns</p>\n",
       "</div>"
      ],
      "text/plain": [
       "   record        date  address-zip5-homephone//days_since  \\\n",
       "0       1  2016-01-01                                 0.0   \n",
       "1       2  2016-01-01                                 0.0   \n",
       "2       3  2016-01-01                                 0.0   \n",
       "3       4  2016-01-01                                 0.0   \n",
       "4       5  2016-01-01                                 0.0   \n",
       "\n",
       "   address-zip5-homephone//prev_d14_count  \\\n",
       "0                                       1   \n",
       "1                                       1   \n",
       "2                                       1   \n",
       "3                                       1   \n",
       "4                                       1   \n",
       "\n",
       "   address-zip5-homephone//prev_d30_count  \\\n",
       "0                                       1   \n",
       "1                                       1   \n",
       "2                                       1   \n",
       "3                                       1   \n",
       "4                                       1   \n",
       "\n",
       "   address-zip5-homephone//prev_d7_count  address-zip5//days_since  \\\n",
       "0                                      1                       0.0   \n",
       "1                                      1                       0.0   \n",
       "2                                      1                       0.0   \n",
       "3                                      1                       0.0   \n",
       "4                                      1                       0.0   \n",
       "\n",
       "   address-zip5//prev_d0_count  address-zip5//prev_d14_count  \\\n",
       "0                            1                             1   \n",
       "1                            1                             1   \n",
       "2                            1                             1   \n",
       "3                            1                             1   \n",
       "4                            1                             1   \n",
       "\n",
       "   address-zip5//prev_d1_d14_avg  ...  ssn-name-dob//prev_d3_count  \\\n",
       "0                           14.0  ...                            1   \n",
       "1                           14.0  ...                            1   \n",
       "2                           14.0  ...                            1   \n",
       "3                           14.0  ...                            1   \n",
       "4                           14.0  ...                            1   \n",
       "\n",
       "   ssn-name//days_since  ssn-name//prev_d14_count  ssn-name//prev_d30_count  \\\n",
       "0                   0.0                         1                         1   \n",
       "1                   0.0                         1                         1   \n",
       "2                   0.0                         1                         1   \n",
       "3                   0.0                         1                         1   \n",
       "4                   0.0                         1                         1   \n",
       "\n",
       "   ssn//days_since  ssn//prev_d14_count  ssn//prev_d1_d30_avg  \\\n",
       "0              0.0                    1                  30.0   \n",
       "1              0.0                    1                  30.0   \n",
       "2              0.0                    1                  30.0   \n",
       "3              0.0                    1                  30.0   \n",
       "4              0.0                    1                  30.0   \n",
       "\n",
       "   ssn//prev_d3_count  ssn//prev_d7_count  fraud_label  \n",
       "0                   1                   1            0  \n",
       "1                   1                   1            1  \n",
       "2                   1                   1            0  \n",
       "3                   1                   1            0  \n",
       "4                   1                   1            0  \n",
       "\n",
       "[5 rows x 37 columns]"
      ]
     },
     "execution_count": 3,
     "metadata": {},
     "output_type": "execute_result"
    }
   ],
   "source": [
    "df.head()"
   ]
  },
  {
   "cell_type": "markdown",
   "metadata": {},
   "source": [
    "### Z scale"
   ]
  },
  {
   "cell_type": "code",
   "execution_count": 4,
   "metadata": {},
   "outputs": [],
   "source": [
    "scaler = StandardScaler()"
   ]
  },
  {
   "cell_type": "code",
   "execution_count": 5,
   "metadata": {},
   "outputs": [],
   "source": [
    "col = df.columns"
   ]
  },
  {
   "cell_type": "code",
   "execution_count": 6,
   "metadata": {},
   "outputs": [],
   "source": [
    "col = col[2:-1]"
   ]
  },
  {
   "cell_type": "code",
   "execution_count": 7,
   "metadata": {},
   "outputs": [
    {
     "data": {
      "text/plain": [
       "Index(['address-zip5-homephone//days_since',\n",
       "       'address-zip5-homephone//prev_d14_count',\n",
       "       'address-zip5-homephone//prev_d30_count',\n",
       "       'address-zip5-homephone//prev_d7_count', 'address-zip5//days_since',\n",
       "       'address-zip5//prev_d0_count', 'address-zip5//prev_d14_count',\n",
       "       'address-zip5//prev_d1_d14_avg', 'address-zip5//prev_d1_d30_avg',\n",
       "       'address-zip5//prev_d1_d7_avg', 'address-zip5//prev_d30_count',\n",
       "       'address-zip5//prev_d3_count', 'address-zip5//prev_d7_count',\n",
       "       'address//days_since', 'homephone//prev_d1_count',\n",
       "       'homephone//prev_d7_count', 'name-dob//days_since',\n",
       "       'name-dob//prev_d30_count', 'ssn-dob//days_since',\n",
       "       'ssn-dob//prev_d30_count', 'ssn-firstname//prev_d30_count',\n",
       "       'ssn-firstname//prev_d7_count', 'ssn-lastname//prev_d14_count',\n",
       "       'ssn-lastname//prev_d30_count', 'ssn-name-dob//days_since',\n",
       "       'ssn-name-dob//prev_d3_count', 'ssn-name//days_since',\n",
       "       'ssn-name//prev_d14_count', 'ssn-name//prev_d30_count',\n",
       "       'ssn//days_since', 'ssn//prev_d14_count', 'ssn//prev_d1_d30_avg',\n",
       "       'ssn//prev_d3_count', 'ssn//prev_d7_count'],\n",
       "      dtype='object')"
      ]
     },
     "execution_count": 7,
     "metadata": {},
     "output_type": "execute_result"
    }
   ],
   "source": [
    "col"
   ]
  },
  {
   "cell_type": "code",
   "execution_count": 8,
   "metadata": {},
   "outputs": [],
   "source": [
    "df_zscaled = pd.DataFrame(scaler.fit_transform(df[col]), columns = col)"
   ]
  },
  {
   "cell_type": "code",
   "execution_count": 9,
   "metadata": {},
   "outputs": [
    {
     "data": {
      "text/html": [
       "<div>\n",
       "<style scoped>\n",
       "    .dataframe tbody tr th:only-of-type {\n",
       "        vertical-align: middle;\n",
       "    }\n",
       "\n",
       "    .dataframe tbody tr th {\n",
       "        vertical-align: top;\n",
       "    }\n",
       "\n",
       "    .dataframe thead th {\n",
       "        text-align: right;\n",
       "    }\n",
       "</style>\n",
       "<table border=\"1\" class=\"dataframe\">\n",
       "  <thead>\n",
       "    <tr style=\"text-align: right;\">\n",
       "      <th></th>\n",
       "      <th>address-zip5-homephone//days_since</th>\n",
       "      <th>address-zip5-homephone//prev_d14_count</th>\n",
       "      <th>address-zip5-homephone//prev_d30_count</th>\n",
       "      <th>address-zip5-homephone//prev_d7_count</th>\n",
       "      <th>address-zip5//days_since</th>\n",
       "      <th>address-zip5//prev_d0_count</th>\n",
       "      <th>address-zip5//prev_d14_count</th>\n",
       "      <th>address-zip5//prev_d1_d14_avg</th>\n",
       "      <th>address-zip5//prev_d1_d30_avg</th>\n",
       "      <th>address-zip5//prev_d1_d7_avg</th>\n",
       "      <th>...</th>\n",
       "      <th>ssn-name-dob//days_since</th>\n",
       "      <th>ssn-name-dob//prev_d3_count</th>\n",
       "      <th>ssn-name//days_since</th>\n",
       "      <th>ssn-name//prev_d14_count</th>\n",
       "      <th>ssn-name//prev_d30_count</th>\n",
       "      <th>ssn//days_since</th>\n",
       "      <th>ssn//prev_d14_count</th>\n",
       "      <th>ssn//prev_d1_d30_avg</th>\n",
       "      <th>ssn//prev_d3_count</th>\n",
       "      <th>ssn//prev_d7_count</th>\n",
       "    </tr>\n",
       "  </thead>\n",
       "  <tbody>\n",
       "    <tr>\n",
       "      <th>count</th>\n",
       "      <td>5.000000</td>\n",
       "      <td>5.000000</td>\n",
       "      <td>5.000000</td>\n",
       "      <td>5.000000e+00</td>\n",
       "      <td>5.00000</td>\n",
       "      <td>5.000000</td>\n",
       "      <td>5.000000</td>\n",
       "      <td>5.000000e+00</td>\n",
       "      <td>5.000000</td>\n",
       "      <td>5.00000</td>\n",
       "      <td>...</td>\n",
       "      <td>5.000000</td>\n",
       "      <td>5.000000</td>\n",
       "      <td>5.000000</td>\n",
       "      <td>5.000000</td>\n",
       "      <td>5.000000</td>\n",
       "      <td>5.000000</td>\n",
       "      <td>5.000000</td>\n",
       "      <td>5.00000</td>\n",
       "      <td>5.000000</td>\n",
       "      <td>5.000000</td>\n",
       "    </tr>\n",
       "    <tr>\n",
       "      <th>mean</th>\n",
       "      <td>-1.566892</td>\n",
       "      <td>-0.070089</td>\n",
       "      <td>-0.094955</td>\n",
       "      <td>-5.726295e-02</td>\n",
       "      <td>-1.54593</td>\n",
       "      <td>-0.041351</td>\n",
       "      <td>-0.079045</td>\n",
       "      <td>1.238613e-01</td>\n",
       "      <td>0.174181</td>\n",
       "      <td>0.09144</td>\n",
       "      <td>...</td>\n",
       "      <td>-1.573711</td>\n",
       "      <td>-0.046327</td>\n",
       "      <td>-1.559231</td>\n",
       "      <td>-0.070962</td>\n",
       "      <td>-0.097773</td>\n",
       "      <td>-1.556639</td>\n",
       "      <td>-0.072421</td>\n",
       "      <td>0.16845</td>\n",
       "      <td>-0.047591</td>\n",
       "      <td>-0.058092</td>\n",
       "    </tr>\n",
       "    <tr>\n",
       "      <th>std</th>\n",
       "      <td>0.000000</td>\n",
       "      <td>0.000000</td>\n",
       "      <td>0.000000</td>\n",
       "      <td>7.757919e-18</td>\n",
       "      <td>0.00000</td>\n",
       "      <td>0.000000</td>\n",
       "      <td>0.000000</td>\n",
       "      <td>1.551584e-17</td>\n",
       "      <td>0.000000</td>\n",
       "      <td>0.00000</td>\n",
       "      <td>...</td>\n",
       "      <td>0.000000</td>\n",
       "      <td>0.000000</td>\n",
       "      <td>0.000000</td>\n",
       "      <td>0.000000</td>\n",
       "      <td>0.000000</td>\n",
       "      <td>0.000000</td>\n",
       "      <td>0.000000</td>\n",
       "      <td>0.00000</td>\n",
       "      <td>0.000000</td>\n",
       "      <td>0.000000</td>\n",
       "    </tr>\n",
       "    <tr>\n",
       "      <th>min</th>\n",
       "      <td>-1.566892</td>\n",
       "      <td>-0.070089</td>\n",
       "      <td>-0.094955</td>\n",
       "      <td>-5.726295e-02</td>\n",
       "      <td>-1.54593</td>\n",
       "      <td>-0.041351</td>\n",
       "      <td>-0.079045</td>\n",
       "      <td>1.238613e-01</td>\n",
       "      <td>0.174181</td>\n",
       "      <td>0.09144</td>\n",
       "      <td>...</td>\n",
       "      <td>-1.573711</td>\n",
       "      <td>-0.046327</td>\n",
       "      <td>-1.559231</td>\n",
       "      <td>-0.070962</td>\n",
       "      <td>-0.097773</td>\n",
       "      <td>-1.556639</td>\n",
       "      <td>-0.072421</td>\n",
       "      <td>0.16845</td>\n",
       "      <td>-0.047591</td>\n",
       "      <td>-0.058092</td>\n",
       "    </tr>\n",
       "    <tr>\n",
       "      <th>25%</th>\n",
       "      <td>-1.566892</td>\n",
       "      <td>-0.070089</td>\n",
       "      <td>-0.094955</td>\n",
       "      <td>-5.726295e-02</td>\n",
       "      <td>-1.54593</td>\n",
       "      <td>-0.041351</td>\n",
       "      <td>-0.079045</td>\n",
       "      <td>1.238613e-01</td>\n",
       "      <td>0.174181</td>\n",
       "      <td>0.09144</td>\n",
       "      <td>...</td>\n",
       "      <td>-1.573711</td>\n",
       "      <td>-0.046327</td>\n",
       "      <td>-1.559231</td>\n",
       "      <td>-0.070962</td>\n",
       "      <td>-0.097773</td>\n",
       "      <td>-1.556639</td>\n",
       "      <td>-0.072421</td>\n",
       "      <td>0.16845</td>\n",
       "      <td>-0.047591</td>\n",
       "      <td>-0.058092</td>\n",
       "    </tr>\n",
       "    <tr>\n",
       "      <th>50%</th>\n",
       "      <td>-1.566892</td>\n",
       "      <td>-0.070089</td>\n",
       "      <td>-0.094955</td>\n",
       "      <td>-5.726295e-02</td>\n",
       "      <td>-1.54593</td>\n",
       "      <td>-0.041351</td>\n",
       "      <td>-0.079045</td>\n",
       "      <td>1.238613e-01</td>\n",
       "      <td>0.174181</td>\n",
       "      <td>0.09144</td>\n",
       "      <td>...</td>\n",
       "      <td>-1.573711</td>\n",
       "      <td>-0.046327</td>\n",
       "      <td>-1.559231</td>\n",
       "      <td>-0.070962</td>\n",
       "      <td>-0.097773</td>\n",
       "      <td>-1.556639</td>\n",
       "      <td>-0.072421</td>\n",
       "      <td>0.16845</td>\n",
       "      <td>-0.047591</td>\n",
       "      <td>-0.058092</td>\n",
       "    </tr>\n",
       "    <tr>\n",
       "      <th>75%</th>\n",
       "      <td>-1.566892</td>\n",
       "      <td>-0.070089</td>\n",
       "      <td>-0.094955</td>\n",
       "      <td>-5.726295e-02</td>\n",
       "      <td>-1.54593</td>\n",
       "      <td>-0.041351</td>\n",
       "      <td>-0.079045</td>\n",
       "      <td>1.238613e-01</td>\n",
       "      <td>0.174181</td>\n",
       "      <td>0.09144</td>\n",
       "      <td>...</td>\n",
       "      <td>-1.573711</td>\n",
       "      <td>-0.046327</td>\n",
       "      <td>-1.559231</td>\n",
       "      <td>-0.070962</td>\n",
       "      <td>-0.097773</td>\n",
       "      <td>-1.556639</td>\n",
       "      <td>-0.072421</td>\n",
       "      <td>0.16845</td>\n",
       "      <td>-0.047591</td>\n",
       "      <td>-0.058092</td>\n",
       "    </tr>\n",
       "    <tr>\n",
       "      <th>max</th>\n",
       "      <td>-1.566892</td>\n",
       "      <td>-0.070089</td>\n",
       "      <td>-0.094955</td>\n",
       "      <td>-5.726295e-02</td>\n",
       "      <td>-1.54593</td>\n",
       "      <td>-0.041351</td>\n",
       "      <td>-0.079045</td>\n",
       "      <td>1.238613e-01</td>\n",
       "      <td>0.174181</td>\n",
       "      <td>0.09144</td>\n",
       "      <td>...</td>\n",
       "      <td>-1.573711</td>\n",
       "      <td>-0.046327</td>\n",
       "      <td>-1.559231</td>\n",
       "      <td>-0.070962</td>\n",
       "      <td>-0.097773</td>\n",
       "      <td>-1.556639</td>\n",
       "      <td>-0.072421</td>\n",
       "      <td>0.16845</td>\n",
       "      <td>-0.047591</td>\n",
       "      <td>-0.058092</td>\n",
       "    </tr>\n",
       "  </tbody>\n",
       "</table>\n",
       "<p>8 rows × 34 columns</p>\n",
       "</div>"
      ],
      "text/plain": [
       "       address-zip5-homephone//days_since  \\\n",
       "count                            5.000000   \n",
       "mean                            -1.566892   \n",
       "std                              0.000000   \n",
       "min                             -1.566892   \n",
       "25%                             -1.566892   \n",
       "50%                             -1.566892   \n",
       "75%                             -1.566892   \n",
       "max                             -1.566892   \n",
       "\n",
       "       address-zip5-homephone//prev_d14_count  \\\n",
       "count                                5.000000   \n",
       "mean                                -0.070089   \n",
       "std                                  0.000000   \n",
       "min                                 -0.070089   \n",
       "25%                                 -0.070089   \n",
       "50%                                 -0.070089   \n",
       "75%                                 -0.070089   \n",
       "max                                 -0.070089   \n",
       "\n",
       "       address-zip5-homephone//prev_d30_count  \\\n",
       "count                                5.000000   \n",
       "mean                                -0.094955   \n",
       "std                                  0.000000   \n",
       "min                                 -0.094955   \n",
       "25%                                 -0.094955   \n",
       "50%                                 -0.094955   \n",
       "75%                                 -0.094955   \n",
       "max                                 -0.094955   \n",
       "\n",
       "       address-zip5-homephone//prev_d7_count  address-zip5//days_since  \\\n",
       "count                           5.000000e+00                   5.00000   \n",
       "mean                           -5.726295e-02                  -1.54593   \n",
       "std                             7.757919e-18                   0.00000   \n",
       "min                            -5.726295e-02                  -1.54593   \n",
       "25%                            -5.726295e-02                  -1.54593   \n",
       "50%                            -5.726295e-02                  -1.54593   \n",
       "75%                            -5.726295e-02                  -1.54593   \n",
       "max                            -5.726295e-02                  -1.54593   \n",
       "\n",
       "       address-zip5//prev_d0_count  address-zip5//prev_d14_count  \\\n",
       "count                     5.000000                      5.000000   \n",
       "mean                     -0.041351                     -0.079045   \n",
       "std                       0.000000                      0.000000   \n",
       "min                      -0.041351                     -0.079045   \n",
       "25%                      -0.041351                     -0.079045   \n",
       "50%                      -0.041351                     -0.079045   \n",
       "75%                      -0.041351                     -0.079045   \n",
       "max                      -0.041351                     -0.079045   \n",
       "\n",
       "       address-zip5//prev_d1_d14_avg  address-zip5//prev_d1_d30_avg  \\\n",
       "count                   5.000000e+00                       5.000000   \n",
       "mean                    1.238613e-01                       0.174181   \n",
       "std                     1.551584e-17                       0.000000   \n",
       "min                     1.238613e-01                       0.174181   \n",
       "25%                     1.238613e-01                       0.174181   \n",
       "50%                     1.238613e-01                       0.174181   \n",
       "75%                     1.238613e-01                       0.174181   \n",
       "max                     1.238613e-01                       0.174181   \n",
       "\n",
       "       address-zip5//prev_d1_d7_avg  ...  ssn-name-dob//days_since  \\\n",
       "count                       5.00000  ...                  5.000000   \n",
       "mean                        0.09144  ...                 -1.573711   \n",
       "std                         0.00000  ...                  0.000000   \n",
       "min                         0.09144  ...                 -1.573711   \n",
       "25%                         0.09144  ...                 -1.573711   \n",
       "50%                         0.09144  ...                 -1.573711   \n",
       "75%                         0.09144  ...                 -1.573711   \n",
       "max                         0.09144  ...                 -1.573711   \n",
       "\n",
       "       ssn-name-dob//prev_d3_count  ssn-name//days_since  \\\n",
       "count                     5.000000              5.000000   \n",
       "mean                     -0.046327             -1.559231   \n",
       "std                       0.000000              0.000000   \n",
       "min                      -0.046327             -1.559231   \n",
       "25%                      -0.046327             -1.559231   \n",
       "50%                      -0.046327             -1.559231   \n",
       "75%                      -0.046327             -1.559231   \n",
       "max                      -0.046327             -1.559231   \n",
       "\n",
       "       ssn-name//prev_d14_count  ssn-name//prev_d30_count  ssn//days_since  \\\n",
       "count                  5.000000                  5.000000         5.000000   \n",
       "mean                  -0.070962                 -0.097773        -1.556639   \n",
       "std                    0.000000                  0.000000         0.000000   \n",
       "min                   -0.070962                 -0.097773        -1.556639   \n",
       "25%                   -0.070962                 -0.097773        -1.556639   \n",
       "50%                   -0.070962                 -0.097773        -1.556639   \n",
       "75%                   -0.070962                 -0.097773        -1.556639   \n",
       "max                   -0.070962                 -0.097773        -1.556639   \n",
       "\n",
       "       ssn//prev_d14_count  ssn//prev_d1_d30_avg  ssn//prev_d3_count  \\\n",
       "count             5.000000               5.00000            5.000000   \n",
       "mean             -0.072421               0.16845           -0.047591   \n",
       "std               0.000000               0.00000            0.000000   \n",
       "min              -0.072421               0.16845           -0.047591   \n",
       "25%              -0.072421               0.16845           -0.047591   \n",
       "50%              -0.072421               0.16845           -0.047591   \n",
       "75%              -0.072421               0.16845           -0.047591   \n",
       "max              -0.072421               0.16845           -0.047591   \n",
       "\n",
       "       ssn//prev_d7_count  \n",
       "count            5.000000  \n",
       "mean            -0.058092  \n",
       "std              0.000000  \n",
       "min             -0.058092  \n",
       "25%             -0.058092  \n",
       "50%             -0.058092  \n",
       "75%             -0.058092  \n",
       "max             -0.058092  \n",
       "\n",
       "[8 rows x 34 columns]"
      ]
     },
     "execution_count": 9,
     "metadata": {},
     "output_type": "execute_result"
    }
   ],
   "source": [
    "df_zscaled.head().describe()"
   ]
  },
  {
   "cell_type": "code",
   "execution_count": 10,
   "metadata": {},
   "outputs": [],
   "source": [
    "df_zscaled['record'] = df['record']"
   ]
  },
  {
   "cell_type": "code",
   "execution_count": 11,
   "metadata": {},
   "outputs": [],
   "source": [
    "df_zscaled['date'] = df['date']"
   ]
  },
  {
   "cell_type": "code",
   "execution_count": 12,
   "metadata": {},
   "outputs": [],
   "source": [
    "df_zscaled['fraud_label'] = df['fraud_label']"
   ]
  },
  {
   "cell_type": "code",
   "execution_count": 13,
   "metadata": {
    "scrolled": true
   },
   "outputs": [
    {
     "data": {
      "text/html": [
       "<div>\n",
       "<style scoped>\n",
       "    .dataframe tbody tr th:only-of-type {\n",
       "        vertical-align: middle;\n",
       "    }\n",
       "\n",
       "    .dataframe tbody tr th {\n",
       "        vertical-align: top;\n",
       "    }\n",
       "\n",
       "    .dataframe thead th {\n",
       "        text-align: right;\n",
       "    }\n",
       "</style>\n",
       "<table border=\"1\" class=\"dataframe\">\n",
       "  <thead>\n",
       "    <tr style=\"text-align: right;\">\n",
       "      <th></th>\n",
       "      <th>address-zip5-homephone//days_since</th>\n",
       "      <th>address-zip5-homephone//prev_d14_count</th>\n",
       "      <th>address-zip5-homephone//prev_d30_count</th>\n",
       "      <th>address-zip5-homephone//prev_d7_count</th>\n",
       "      <th>address-zip5//days_since</th>\n",
       "      <th>address-zip5//prev_d0_count</th>\n",
       "      <th>address-zip5//prev_d14_count</th>\n",
       "      <th>address-zip5//prev_d1_d14_avg</th>\n",
       "      <th>address-zip5//prev_d1_d30_avg</th>\n",
       "      <th>address-zip5//prev_d1_d7_avg</th>\n",
       "      <th>...</th>\n",
       "      <th>ssn-name//prev_d14_count</th>\n",
       "      <th>ssn-name//prev_d30_count</th>\n",
       "      <th>ssn//days_since</th>\n",
       "      <th>ssn//prev_d14_count</th>\n",
       "      <th>ssn//prev_d1_d30_avg</th>\n",
       "      <th>ssn//prev_d3_count</th>\n",
       "      <th>ssn//prev_d7_count</th>\n",
       "      <th>record</th>\n",
       "      <th>date</th>\n",
       "      <th>fraud_label</th>\n",
       "    </tr>\n",
       "  </thead>\n",
       "  <tbody>\n",
       "    <tr>\n",
       "      <th>0</th>\n",
       "      <td>-1.566892</td>\n",
       "      <td>-0.070089</td>\n",
       "      <td>-0.094955</td>\n",
       "      <td>-0.057263</td>\n",
       "      <td>-1.54593</td>\n",
       "      <td>-0.041351</td>\n",
       "      <td>-0.079045</td>\n",
       "      <td>0.123861</td>\n",
       "      <td>0.174181</td>\n",
       "      <td>0.09144</td>\n",
       "      <td>...</td>\n",
       "      <td>-0.070962</td>\n",
       "      <td>-0.097773</td>\n",
       "      <td>-1.556639</td>\n",
       "      <td>-0.072421</td>\n",
       "      <td>0.16845</td>\n",
       "      <td>-0.047591</td>\n",
       "      <td>-0.058092</td>\n",
       "      <td>1</td>\n",
       "      <td>2016-01-01</td>\n",
       "      <td>0</td>\n",
       "    </tr>\n",
       "    <tr>\n",
       "      <th>1</th>\n",
       "      <td>-1.566892</td>\n",
       "      <td>-0.070089</td>\n",
       "      <td>-0.094955</td>\n",
       "      <td>-0.057263</td>\n",
       "      <td>-1.54593</td>\n",
       "      <td>-0.041351</td>\n",
       "      <td>-0.079045</td>\n",
       "      <td>0.123861</td>\n",
       "      <td>0.174181</td>\n",
       "      <td>0.09144</td>\n",
       "      <td>...</td>\n",
       "      <td>-0.070962</td>\n",
       "      <td>-0.097773</td>\n",
       "      <td>-1.556639</td>\n",
       "      <td>-0.072421</td>\n",
       "      <td>0.16845</td>\n",
       "      <td>-0.047591</td>\n",
       "      <td>-0.058092</td>\n",
       "      <td>2</td>\n",
       "      <td>2016-01-01</td>\n",
       "      <td>1</td>\n",
       "    </tr>\n",
       "    <tr>\n",
       "      <th>2</th>\n",
       "      <td>-1.566892</td>\n",
       "      <td>-0.070089</td>\n",
       "      <td>-0.094955</td>\n",
       "      <td>-0.057263</td>\n",
       "      <td>-1.54593</td>\n",
       "      <td>-0.041351</td>\n",
       "      <td>-0.079045</td>\n",
       "      <td>0.123861</td>\n",
       "      <td>0.174181</td>\n",
       "      <td>0.09144</td>\n",
       "      <td>...</td>\n",
       "      <td>-0.070962</td>\n",
       "      <td>-0.097773</td>\n",
       "      <td>-1.556639</td>\n",
       "      <td>-0.072421</td>\n",
       "      <td>0.16845</td>\n",
       "      <td>-0.047591</td>\n",
       "      <td>-0.058092</td>\n",
       "      <td>3</td>\n",
       "      <td>2016-01-01</td>\n",
       "      <td>0</td>\n",
       "    </tr>\n",
       "    <tr>\n",
       "      <th>3</th>\n",
       "      <td>-1.566892</td>\n",
       "      <td>-0.070089</td>\n",
       "      <td>-0.094955</td>\n",
       "      <td>-0.057263</td>\n",
       "      <td>-1.54593</td>\n",
       "      <td>-0.041351</td>\n",
       "      <td>-0.079045</td>\n",
       "      <td>0.123861</td>\n",
       "      <td>0.174181</td>\n",
       "      <td>0.09144</td>\n",
       "      <td>...</td>\n",
       "      <td>-0.070962</td>\n",
       "      <td>-0.097773</td>\n",
       "      <td>-1.556639</td>\n",
       "      <td>-0.072421</td>\n",
       "      <td>0.16845</td>\n",
       "      <td>-0.047591</td>\n",
       "      <td>-0.058092</td>\n",
       "      <td>4</td>\n",
       "      <td>2016-01-01</td>\n",
       "      <td>0</td>\n",
       "    </tr>\n",
       "    <tr>\n",
       "      <th>4</th>\n",
       "      <td>-1.566892</td>\n",
       "      <td>-0.070089</td>\n",
       "      <td>-0.094955</td>\n",
       "      <td>-0.057263</td>\n",
       "      <td>-1.54593</td>\n",
       "      <td>-0.041351</td>\n",
       "      <td>-0.079045</td>\n",
       "      <td>0.123861</td>\n",
       "      <td>0.174181</td>\n",
       "      <td>0.09144</td>\n",
       "      <td>...</td>\n",
       "      <td>-0.070962</td>\n",
       "      <td>-0.097773</td>\n",
       "      <td>-1.556639</td>\n",
       "      <td>-0.072421</td>\n",
       "      <td>0.16845</td>\n",
       "      <td>-0.047591</td>\n",
       "      <td>-0.058092</td>\n",
       "      <td>5</td>\n",
       "      <td>2016-01-01</td>\n",
       "      <td>0</td>\n",
       "    </tr>\n",
       "  </tbody>\n",
       "</table>\n",
       "<p>5 rows × 37 columns</p>\n",
       "</div>"
      ],
      "text/plain": [
       "   address-zip5-homephone//days_since  address-zip5-homephone//prev_d14_count  \\\n",
       "0                           -1.566892                               -0.070089   \n",
       "1                           -1.566892                               -0.070089   \n",
       "2                           -1.566892                               -0.070089   \n",
       "3                           -1.566892                               -0.070089   \n",
       "4                           -1.566892                               -0.070089   \n",
       "\n",
       "   address-zip5-homephone//prev_d30_count  \\\n",
       "0                               -0.094955   \n",
       "1                               -0.094955   \n",
       "2                               -0.094955   \n",
       "3                               -0.094955   \n",
       "4                               -0.094955   \n",
       "\n",
       "   address-zip5-homephone//prev_d7_count  address-zip5//days_since  \\\n",
       "0                              -0.057263                  -1.54593   \n",
       "1                              -0.057263                  -1.54593   \n",
       "2                              -0.057263                  -1.54593   \n",
       "3                              -0.057263                  -1.54593   \n",
       "4                              -0.057263                  -1.54593   \n",
       "\n",
       "   address-zip5//prev_d0_count  address-zip5//prev_d14_count  \\\n",
       "0                    -0.041351                     -0.079045   \n",
       "1                    -0.041351                     -0.079045   \n",
       "2                    -0.041351                     -0.079045   \n",
       "3                    -0.041351                     -0.079045   \n",
       "4                    -0.041351                     -0.079045   \n",
       "\n",
       "   address-zip5//prev_d1_d14_avg  address-zip5//prev_d1_d30_avg  \\\n",
       "0                       0.123861                       0.174181   \n",
       "1                       0.123861                       0.174181   \n",
       "2                       0.123861                       0.174181   \n",
       "3                       0.123861                       0.174181   \n",
       "4                       0.123861                       0.174181   \n",
       "\n",
       "   address-zip5//prev_d1_d7_avg  ...  ssn-name//prev_d14_count  \\\n",
       "0                       0.09144  ...                 -0.070962   \n",
       "1                       0.09144  ...                 -0.070962   \n",
       "2                       0.09144  ...                 -0.070962   \n",
       "3                       0.09144  ...                 -0.070962   \n",
       "4                       0.09144  ...                 -0.070962   \n",
       "\n",
       "   ssn-name//prev_d30_count  ssn//days_since  ssn//prev_d14_count  \\\n",
       "0                 -0.097773        -1.556639            -0.072421   \n",
       "1                 -0.097773        -1.556639            -0.072421   \n",
       "2                 -0.097773        -1.556639            -0.072421   \n",
       "3                 -0.097773        -1.556639            -0.072421   \n",
       "4                 -0.097773        -1.556639            -0.072421   \n",
       "\n",
       "   ssn//prev_d1_d30_avg  ssn//prev_d3_count  ssn//prev_d7_count  record  \\\n",
       "0               0.16845           -0.047591           -0.058092       1   \n",
       "1               0.16845           -0.047591           -0.058092       2   \n",
       "2               0.16845           -0.047591           -0.058092       3   \n",
       "3               0.16845           -0.047591           -0.058092       4   \n",
       "4               0.16845           -0.047591           -0.058092       5   \n",
       "\n",
       "         date  fraud_label  \n",
       "0  2016-01-01            0  \n",
       "1  2016-01-01            1  \n",
       "2  2016-01-01            0  \n",
       "3  2016-01-01            0  \n",
       "4  2016-01-01            0  \n",
       "\n",
       "[5 rows x 37 columns]"
      ]
     },
     "execution_count": 13,
     "metadata": {},
     "output_type": "execute_result"
    }
   ],
   "source": [
    "df_zscaled.head()"
   ]
  },
  {
   "cell_type": "code",
   "execution_count": 14,
   "metadata": {},
   "outputs": [],
   "source": [
    "df = df_zscaled.copy()"
   ]
  },
  {
   "cell_type": "markdown",
   "metadata": {},
   "source": [
    "### Train/Test/OOT Split"
   ]
  },
  {
   "cell_type": "code",
   "execution_count": 15,
   "metadata": {},
   "outputs": [],
   "source": [
    "tt = df[(df.date > '2016-01-14') & (df.date < '2016-11-01')].copy()"
   ]
  },
  {
   "cell_type": "code",
   "execution_count": 16,
   "metadata": {},
   "outputs": [
    {
     "data": {
      "text/plain": [
       "0    783510\n",
       "1     11486\n",
       "Name: fraud_label, dtype: int64"
      ]
     },
     "execution_count": 16,
     "metadata": {},
     "output_type": "execute_result"
    }
   ],
   "source": [
    "tt.fraud_label.value_counts()"
   ]
  },
  {
   "cell_type": "code",
   "execution_count": 17,
   "metadata": {},
   "outputs": [
    {
     "data": {
      "text/html": [
       "<div>\n",
       "<style scoped>\n",
       "    .dataframe tbody tr th:only-of-type {\n",
       "        vertical-align: middle;\n",
       "    }\n",
       "\n",
       "    .dataframe tbody tr th {\n",
       "        vertical-align: top;\n",
       "    }\n",
       "\n",
       "    .dataframe thead th {\n",
       "        text-align: right;\n",
       "    }\n",
       "</style>\n",
       "<table border=\"1\" class=\"dataframe\">\n",
       "  <thead>\n",
       "    <tr style=\"text-align: right;\">\n",
       "      <th></th>\n",
       "      <th>address-zip5-homephone//days_since</th>\n",
       "      <th>address-zip5-homephone//prev_d14_count</th>\n",
       "      <th>address-zip5-homephone//prev_d30_count</th>\n",
       "      <th>address-zip5-homephone//prev_d7_count</th>\n",
       "      <th>address-zip5//days_since</th>\n",
       "      <th>address-zip5//prev_d0_count</th>\n",
       "      <th>address-zip5//prev_d14_count</th>\n",
       "      <th>address-zip5//prev_d1_d14_avg</th>\n",
       "      <th>address-zip5//prev_d1_d30_avg</th>\n",
       "      <th>address-zip5//prev_d1_d7_avg</th>\n",
       "      <th>...</th>\n",
       "      <th>ssn-name//prev_d14_count</th>\n",
       "      <th>ssn-name//prev_d30_count</th>\n",
       "      <th>ssn//days_since</th>\n",
       "      <th>ssn//prev_d14_count</th>\n",
       "      <th>ssn//prev_d1_d30_avg</th>\n",
       "      <th>ssn//prev_d3_count</th>\n",
       "      <th>ssn//prev_d7_count</th>\n",
       "      <th>record</th>\n",
       "      <th>date</th>\n",
       "      <th>fraud_label</th>\n",
       "    </tr>\n",
       "  </thead>\n",
       "  <tbody>\n",
       "    <tr>\n",
       "      <th>38511</th>\n",
       "      <td>-1.433982</td>\n",
       "      <td>-0.070089</td>\n",
       "      <td>-0.094955</td>\n",
       "      <td>-0.057263</td>\n",
       "      <td>-1.41291</td>\n",
       "      <td>-0.041351</td>\n",
       "      <td>-0.079045</td>\n",
       "      <td>0.123861</td>\n",
       "      <td>0.174181</td>\n",
       "      <td>0.09144</td>\n",
       "      <td>...</td>\n",
       "      <td>-0.070962</td>\n",
       "      <td>-0.097773</td>\n",
       "      <td>-1.423514</td>\n",
       "      <td>-0.072421</td>\n",
       "      <td>0.16845</td>\n",
       "      <td>-0.047591</td>\n",
       "      <td>-0.058092</td>\n",
       "      <td>38512</td>\n",
       "      <td>2016-01-15</td>\n",
       "      <td>0</td>\n",
       "    </tr>\n",
       "    <tr>\n",
       "      <th>38512</th>\n",
       "      <td>-1.433982</td>\n",
       "      <td>-0.070089</td>\n",
       "      <td>-0.094955</td>\n",
       "      <td>-0.057263</td>\n",
       "      <td>-1.41291</td>\n",
       "      <td>-0.041351</td>\n",
       "      <td>-0.079045</td>\n",
       "      <td>0.123861</td>\n",
       "      <td>0.174181</td>\n",
       "      <td>0.09144</td>\n",
       "      <td>...</td>\n",
       "      <td>-0.070962</td>\n",
       "      <td>-0.097773</td>\n",
       "      <td>-1.423514</td>\n",
       "      <td>-0.072421</td>\n",
       "      <td>0.16845</td>\n",
       "      <td>-0.047591</td>\n",
       "      <td>-0.058092</td>\n",
       "      <td>38513</td>\n",
       "      <td>2016-01-15</td>\n",
       "      <td>0</td>\n",
       "    </tr>\n",
       "    <tr>\n",
       "      <th>38513</th>\n",
       "      <td>-1.433982</td>\n",
       "      <td>-0.070089</td>\n",
       "      <td>-0.094955</td>\n",
       "      <td>-0.057263</td>\n",
       "      <td>-1.41291</td>\n",
       "      <td>-0.041351</td>\n",
       "      <td>-0.079045</td>\n",
       "      <td>0.123861</td>\n",
       "      <td>0.174181</td>\n",
       "      <td>0.09144</td>\n",
       "      <td>...</td>\n",
       "      <td>-0.070962</td>\n",
       "      <td>-0.097773</td>\n",
       "      <td>-1.423514</td>\n",
       "      <td>-0.072421</td>\n",
       "      <td>0.16845</td>\n",
       "      <td>-0.047591</td>\n",
       "      <td>-0.058092</td>\n",
       "      <td>38514</td>\n",
       "      <td>2016-01-15</td>\n",
       "      <td>0</td>\n",
       "    </tr>\n",
       "    <tr>\n",
       "      <th>38514</th>\n",
       "      <td>-1.433982</td>\n",
       "      <td>-0.070089</td>\n",
       "      <td>-0.094955</td>\n",
       "      <td>-0.057263</td>\n",
       "      <td>-1.41291</td>\n",
       "      <td>-0.041351</td>\n",
       "      <td>-0.079045</td>\n",
       "      <td>0.123861</td>\n",
       "      <td>0.174181</td>\n",
       "      <td>0.09144</td>\n",
       "      <td>...</td>\n",
       "      <td>-0.070962</td>\n",
       "      <td>-0.097773</td>\n",
       "      <td>-1.423514</td>\n",
       "      <td>-0.072421</td>\n",
       "      <td>0.16845</td>\n",
       "      <td>-0.047591</td>\n",
       "      <td>-0.058092</td>\n",
       "      <td>38515</td>\n",
       "      <td>2016-01-15</td>\n",
       "      <td>0</td>\n",
       "    </tr>\n",
       "    <tr>\n",
       "      <th>38515</th>\n",
       "      <td>-1.433982</td>\n",
       "      <td>-0.070089</td>\n",
       "      <td>-0.094955</td>\n",
       "      <td>-0.057263</td>\n",
       "      <td>-1.41291</td>\n",
       "      <td>-0.041351</td>\n",
       "      <td>-0.079045</td>\n",
       "      <td>0.123861</td>\n",
       "      <td>0.174181</td>\n",
       "      <td>0.09144</td>\n",
       "      <td>...</td>\n",
       "      <td>-0.070962</td>\n",
       "      <td>-0.097773</td>\n",
       "      <td>-1.423514</td>\n",
       "      <td>-0.072421</td>\n",
       "      <td>0.16845</td>\n",
       "      <td>-0.047591</td>\n",
       "      <td>-0.058092</td>\n",
       "      <td>38516</td>\n",
       "      <td>2016-01-15</td>\n",
       "      <td>0</td>\n",
       "    </tr>\n",
       "  </tbody>\n",
       "</table>\n",
       "<p>5 rows × 37 columns</p>\n",
       "</div>"
      ],
      "text/plain": [
       "       address-zip5-homephone//days_since  \\\n",
       "38511                           -1.433982   \n",
       "38512                           -1.433982   \n",
       "38513                           -1.433982   \n",
       "38514                           -1.433982   \n",
       "38515                           -1.433982   \n",
       "\n",
       "       address-zip5-homephone//prev_d14_count  \\\n",
       "38511                               -0.070089   \n",
       "38512                               -0.070089   \n",
       "38513                               -0.070089   \n",
       "38514                               -0.070089   \n",
       "38515                               -0.070089   \n",
       "\n",
       "       address-zip5-homephone//prev_d30_count  \\\n",
       "38511                               -0.094955   \n",
       "38512                               -0.094955   \n",
       "38513                               -0.094955   \n",
       "38514                               -0.094955   \n",
       "38515                               -0.094955   \n",
       "\n",
       "       address-zip5-homephone//prev_d7_count  address-zip5//days_since  \\\n",
       "38511                              -0.057263                  -1.41291   \n",
       "38512                              -0.057263                  -1.41291   \n",
       "38513                              -0.057263                  -1.41291   \n",
       "38514                              -0.057263                  -1.41291   \n",
       "38515                              -0.057263                  -1.41291   \n",
       "\n",
       "       address-zip5//prev_d0_count  address-zip5//prev_d14_count  \\\n",
       "38511                    -0.041351                     -0.079045   \n",
       "38512                    -0.041351                     -0.079045   \n",
       "38513                    -0.041351                     -0.079045   \n",
       "38514                    -0.041351                     -0.079045   \n",
       "38515                    -0.041351                     -0.079045   \n",
       "\n",
       "       address-zip5//prev_d1_d14_avg  address-zip5//prev_d1_d30_avg  \\\n",
       "38511                       0.123861                       0.174181   \n",
       "38512                       0.123861                       0.174181   \n",
       "38513                       0.123861                       0.174181   \n",
       "38514                       0.123861                       0.174181   \n",
       "38515                       0.123861                       0.174181   \n",
       "\n",
       "       address-zip5//prev_d1_d7_avg  ...  ssn-name//prev_d14_count  \\\n",
       "38511                       0.09144  ...                 -0.070962   \n",
       "38512                       0.09144  ...                 -0.070962   \n",
       "38513                       0.09144  ...                 -0.070962   \n",
       "38514                       0.09144  ...                 -0.070962   \n",
       "38515                       0.09144  ...                 -0.070962   \n",
       "\n",
       "       ssn-name//prev_d30_count  ssn//days_since  ssn//prev_d14_count  \\\n",
       "38511                 -0.097773        -1.423514            -0.072421   \n",
       "38512                 -0.097773        -1.423514            -0.072421   \n",
       "38513                 -0.097773        -1.423514            -0.072421   \n",
       "38514                 -0.097773        -1.423514            -0.072421   \n",
       "38515                 -0.097773        -1.423514            -0.072421   \n",
       "\n",
       "       ssn//prev_d1_d30_avg  ssn//prev_d3_count  ssn//prev_d7_count  record  \\\n",
       "38511               0.16845           -0.047591           -0.058092   38512   \n",
       "38512               0.16845           -0.047591           -0.058092   38513   \n",
       "38513               0.16845           -0.047591           -0.058092   38514   \n",
       "38514               0.16845           -0.047591           -0.058092   38515   \n",
       "38515               0.16845           -0.047591           -0.058092   38516   \n",
       "\n",
       "             date  fraud_label  \n",
       "38511  2016-01-15            0  \n",
       "38512  2016-01-15            0  \n",
       "38513  2016-01-15            0  \n",
       "38514  2016-01-15            0  \n",
       "38515  2016-01-15            0  \n",
       "\n",
       "[5 rows x 37 columns]"
      ]
     },
     "execution_count": 17,
     "metadata": {},
     "output_type": "execute_result"
    }
   ],
   "source": [
    "tt.head()"
   ]
  },
  {
   "cell_type": "code",
   "execution_count": 18,
   "metadata": {},
   "outputs": [],
   "source": [
    "oot = df[df.date>='2016-11-01'].copy()"
   ]
  },
  {
   "cell_type": "code",
   "execution_count": 19,
   "metadata": {},
   "outputs": [],
   "source": [
    "X, y = tt.iloc[:, :-3].values, tt.iloc[:, -1].values"
   ]
  },
  {
   "cell_type": "code",
   "execution_count": 20,
   "metadata": {},
   "outputs": [],
   "source": [
    "X_train, X_test, y_train, y_test = train_test_split(X, y, test_size=0.25, random_state=0, stratify = y)"
   ]
  },
  {
   "cell_type": "markdown",
   "metadata": {},
   "source": [
    "### Upsample minority class"
   ]
  },
  {
   "cell_type": "code",
   "execution_count": 21,
   "metadata": {},
   "outputs": [],
   "source": [
    "df_resample = pd.DataFrame(X_train, columns = [i for i in tt.columns if i not in ['record', 'date', 'fraud_label']])"
   ]
  },
  {
   "cell_type": "code",
   "execution_count": 22,
   "metadata": {},
   "outputs": [],
   "source": [
    "df_resample['fraud_label'] = y_train"
   ]
  },
  {
   "cell_type": "code",
   "execution_count": 23,
   "metadata": {},
   "outputs": [
    {
     "data": {
      "text/plain": [
       "0    587632\n",
       "1      8615\n",
       "Name: fraud_label, dtype: int64"
      ]
     },
     "execution_count": 23,
     "metadata": {},
     "output_type": "execute_result"
    }
   ],
   "source": [
    "df_resample.fraud_label.value_counts()"
   ]
  },
  {
   "cell_type": "code",
   "execution_count": 24,
   "metadata": {},
   "outputs": [],
   "source": [
    "#separate majority and minority \n",
    "df_majority = df_resample[df_resample.fraud_label==0]\n",
    "df_minority = df_resample[df_resample.fraud_label==1]"
   ]
  },
  {
   "cell_type": "code",
   "execution_count": 25,
   "metadata": {},
   "outputs": [],
   "source": [
    "#upsample minority\n",
    "df_minority_upsampled = resample(df_minority, \n",
    "                                replace=True,\n",
    "                                n_samples = int(df_majority.fraud_label.count()),\n",
    "                                random_state = 123)"
   ]
  },
  {
   "cell_type": "code",
   "execution_count": 26,
   "metadata": {},
   "outputs": [
    {
     "data": {
      "text/plain": [
       "1    587632\n",
       "0    587632\n",
       "Name: fraud_label, dtype: int64"
      ]
     },
     "execution_count": 26,
     "metadata": {},
     "output_type": "execute_result"
    }
   ],
   "source": [
    "#combine\n",
    "df_upsampled = pd.concat([df_majority, df_minority_upsampled])\n",
    "df_upsampled.fraud_label.value_counts()"
   ]
  },
  {
   "cell_type": "code",
   "execution_count": 27,
   "metadata": {},
   "outputs": [],
   "source": [
    "X_train_upsampled = df_upsampled.iloc[:, :-1].values\n",
    "y_train_upsampled = df_upsampled.iloc[:, -1].values"
   ]
  },
  {
   "cell_type": "code",
   "execution_count": 28,
   "metadata": {},
   "outputs": [],
   "source": [
    "OOT_X = oot.iloc[:,:-3].values\n",
    "OOT_y = oot.iloc[:,-1].values"
   ]
  },
  {
   "cell_type": "markdown",
   "metadata": {},
   "source": [
    "### Model evaluation"
   ]
  },
  {
   "cell_type": "code",
   "execution_count": 29,
   "metadata": {},
   "outputs": [],
   "source": [
    "#defining evaluation metric - FDR 3%\n",
    "def scoring(model, top_percent = 3):\n",
    "    train_pred = model.predict_proba(X_train)[:, 1]\n",
    "    train_actual_predict = pd.DataFrame({'pred': train_pred, 'actual': y_train})\n",
    "    fdr_train = (train_actual_predict.sort_values('pred', ascending=False) > 0.5).head(int(round(len(train_actual_predict) * 0.01 * top_percent)))['actual'].sum() / y_train.sum()\n",
    "    \n",
    "    test_pred = model.predict_proba(X_test)[:, 1]\n",
    "    test_actual_predict = pd.DataFrame({'pred': test_pred, 'actual': y_test})\n",
    "    fdr_test = (test_actual_predict.sort_values('pred', ascending=False) > 0.5).head(int(round(len(test_actual_predict) * 0.01 * top_percent)))['actual'].sum() / y_test.sum()\n",
    "    \n",
    "    oot_pred = model.predict_proba(OOT_X)[:, 1]\n",
    "    oot_actual_predict = pd.DataFrame({'pred': oot_pred, 'actual': OOT_y}) \n",
    "    fdr_oot = (oot_actual_predict.sort_values('pred', ascending=False) > 0.5).head(int(round(len(oot_actual_predict) * 0.01 * top_percent)))['actual'].sum() / OOT_y.sum()\n",
    "    \n",
    "    scoring_df = {'Name': type(model).__name__, 'Training FDR': round(fdr_train, 4), 'Test FDR': round(fdr_test, 4), 'OOT_FDR': round(fdr_oot, 4)}\n",
    "    \n",
    "    return scoring_df"
   ]
  },
  {
   "cell_type": "markdown",
   "metadata": {},
   "source": [
    "## Logistic model\n",
    "- 34 variables"
   ]
  },
  {
   "cell_type": "code",
   "execution_count": 30,
   "metadata": {},
   "outputs": [],
   "source": [
    "model_log = LogisticRegression()"
   ]
  },
  {
   "cell_type": "code",
   "execution_count": 31,
   "metadata": {},
   "outputs": [
    {
     "name": "stderr",
     "output_type": "stream",
     "text": [
      "/Users/XinyiGuo/anaconda3/lib/python3.7/site-packages/sklearn/linear_model/_logistic.py:940: ConvergenceWarning: lbfgs failed to converge (status=1):\n",
      "STOP: TOTAL NO. of ITERATIONS REACHED LIMIT.\n",
      "\n",
      "Increase the number of iterations (max_iter) or scale the data as shown in:\n",
      "    https://scikit-learn.org/stable/modules/preprocessing.html\n",
      "Please also refer to the documentation for alternative solver options:\n",
      "    https://scikit-learn.org/stable/modules/linear_model.html#logistic-regression\n",
      "  extra_warning_msg=_LOGISTIC_SOLVER_CONVERGENCE_MSG)\n"
     ]
    },
    {
     "data": {
      "text/plain": [
       "LogisticRegression(C=1.0, class_weight=None, dual=False, fit_intercept=True,\n",
       "                   intercept_scaling=1, l1_ratio=None, max_iter=100,\n",
       "                   multi_class='auto', n_jobs=None, penalty='l2',\n",
       "                   random_state=None, solver='lbfgs', tol=0.0001, verbose=0,\n",
       "                   warm_start=False)"
      ]
     },
     "execution_count": 31,
     "metadata": {},
     "output_type": "execute_result"
    }
   ],
   "source": [
    "model_log.fit(X_train_upsampled, y_train_upsampled)"
   ]
  },
  {
   "cell_type": "code",
   "execution_count": 32,
   "metadata": {},
   "outputs": [
    {
     "data": {
      "text/plain": [
       "{'Name': 'LogisticRegression',\n",
       " 'Training FDR': 0.5647,\n",
       " 'Test FDR': 0.5594,\n",
       " 'OOT_FDR': 0.5436}"
      ]
     },
     "execution_count": 32,
     "metadata": {},
     "output_type": "execute_result"
    }
   ],
   "source": [
    "logScore = scoring(model_log)\n",
    "logScore"
   ]
  },
  {
   "cell_type": "code",
   "execution_count": 33,
   "metadata": {},
   "outputs": [],
   "source": [
    "scoreList = [logScore]"
   ]
  },
  {
   "cell_type": "code",
   "execution_count": 34,
   "metadata": {},
   "outputs": [],
   "source": [
    "pred_test = model_log.predict(X_test)"
   ]
  },
  {
   "cell_type": "code",
   "execution_count": 35,
   "metadata": {},
   "outputs": [
    {
     "data": {
      "text/plain": [
       "0.9748728295488279"
      ]
     },
     "execution_count": 35,
     "metadata": {},
     "output_type": "execute_result"
    }
   ],
   "source": [
    "accuracy_score(y_test, pred_test)"
   ]
  },
  {
   "cell_type": "code",
   "execution_count": 36,
   "metadata": {},
   "outputs": [
    {
     "data": {
      "text/plain": [
       "0.5576454197143852"
      ]
     },
     "execution_count": 36,
     "metadata": {},
     "output_type": "execute_result"
    }
   ],
   "source": [
    "recall_score(y_test, pred_test)"
   ]
  },
  {
   "cell_type": "code",
   "execution_count": 37,
   "metadata": {},
   "outputs": [],
   "source": [
    "pred_prob = model_log.predict_proba(X_test)"
   ]
  },
  {
   "cell_type": "code",
   "execution_count": 38,
   "metadata": {},
   "outputs": [
    {
     "data": {
      "text/plain": [
       "array([[0.72256017, 0.27743983],\n",
       "       [0.72265888, 0.27734112],\n",
       "       [0.72229215, 0.27770785],\n",
       "       ...,\n",
       "       [0.7210275 , 0.2789725 ],\n",
       "       [0.72257427, 0.27742573],\n",
       "       [0.72121141, 0.27878859]])"
      ]
     },
     "execution_count": 38,
     "metadata": {},
     "output_type": "execute_result"
    }
   ],
   "source": [
    "pred_prob"
   ]
  },
  {
   "cell_type": "code",
   "execution_count": 39,
   "metadata": {},
   "outputs": [
    {
     "data": {
      "text/plain": [
       "array([0.27743983, 0.27734112, 0.27770785, ..., 0.2789725 , 0.27742573,\n",
       "       0.27878859])"
      ]
     },
     "execution_count": 39,
     "metadata": {},
     "output_type": "execute_result"
    }
   ],
   "source": [
    "pred_prob[:,1]"
   ]
  },
  {
   "cell_type": "code",
   "execution_count": 40,
   "metadata": {},
   "outputs": [],
   "source": [
    "df_fdr = pd.DataFrame({'pred':pred_test, 'actual':y_test})"
   ]
  },
  {
   "cell_type": "code",
   "execution_count": 41,
   "metadata": {},
   "outputs": [
    {
     "name": "stdout",
     "output_type": "stream",
     "text": [
      "FDR at 3% is 0.56.\n"
     ]
    }
   ],
   "source": [
    "fdrat3 = df_fdr.sort_values(by='pred', ascending=False).head(int(round(len(df_fdr)*0.03))).actual.sum()/df_fdr.actual.sum()\n",
    "print(f'FDR at 3% is {round(fdrat3,2)}.')"
   ]
  },
  {
   "cell_type": "code",
   "execution_count": 42,
   "metadata": {
    "scrolled": true
   },
   "outputs": [
    {
     "data": {
      "text/plain": [
       "array([[192154,   3724],\n",
       "       [  1270,   1601]])"
      ]
     },
     "execution_count": 42,
     "metadata": {},
     "output_type": "execute_result"
    }
   ],
   "source": [
    "confusion_matrix(y_test, pred_test)"
   ]
  },
  {
   "cell_type": "markdown",
   "metadata": {},
   "source": [
    "## XGBoost"
   ]
  },
  {
   "cell_type": "code",
   "execution_count": 43,
   "metadata": {},
   "outputs": [
    {
     "data": {
      "text/plain": [
       "XGBClassifier(base_score=0.5, booster='gbtree', colsample_bylevel=1,\n",
       "              colsample_bynode=1, colsample_bytree=0.8, gamma=1,\n",
       "              learning_rate=0.1, max_delta_step=0, max_depth=5,\n",
       "              min_child_weight=5, missing=None, n_estimators=100, n_jobs=1,\n",
       "              nthread=None, objective='binary:logistic', random_state=0,\n",
       "              reg_alpha=0, reg_lambda=1, scale_pos_weight=1, seed=None,\n",
       "              silent=None, subsample=0.8, verbosity=1)"
      ]
     },
     "execution_count": 43,
     "metadata": {},
     "output_type": "execute_result"
    }
   ],
   "source": [
    "params = {'subsample': 0.8,\n",
    " 'min_child_weight': 5,\n",
    " 'max_depth': 5,\n",
    " 'gamma': 1,\n",
    " 'colsample_bytree': 0.8}\n",
    "XGB = XGBClassifier(**params)\n",
    "XGB.fit(X_train_upsampled, y_train_upsampled)"
   ]
  },
  {
   "cell_type": "code",
   "execution_count": 44,
   "metadata": {},
   "outputs": [
    {
     "data": {
      "text/plain": [
       "{'Name': 'XGBClassifier',\n",
       " 'Training FDR': 0.5855,\n",
       " 'Test FDR': 0.5695,\n",
       " 'OOT_FDR': 0.5511}"
      ]
     },
     "execution_count": 44,
     "metadata": {},
     "output_type": "execute_result"
    }
   ],
   "source": [
    "XGBScore = scoring(XGB)\n",
    "XGBScore"
   ]
  },
  {
   "cell_type": "code",
   "execution_count": 45,
   "metadata": {},
   "outputs": [],
   "source": [
    "scoreList.append(XGBScore)"
   ]
  },
  {
   "cell_type": "markdown",
   "metadata": {},
   "source": [
    "# Decision Tree"
   ]
  },
  {
   "cell_type": "code",
   "execution_count": 46,
   "metadata": {},
   "outputs": [
    {
     "data": {
      "text/plain": [
       "DecisionTreeClassifier(ccp_alpha=0.0, class_weight=None, criterion='gini',\n",
       "                       max_depth=None, max_features=None, max_leaf_nodes=None,\n",
       "                       min_impurity_decrease=0.0, min_impurity_split=None,\n",
       "                       min_samples_leaf=60, min_samples_split=300,\n",
       "                       min_weight_fraction_leaf=0.0, presort='deprecated',\n",
       "                       random_state=1, splitter='best')"
      ]
     },
     "execution_count": 46,
     "metadata": {},
     "output_type": "execute_result"
    }
   ],
   "source": [
    "model_tree = DecisionTreeClassifier(min_samples_split = 300, min_samples_leaf = 60,random_state = 1)\n",
    "model_tree.fit(X_train_upsampled, y_train_upsampled)"
   ]
  },
  {
   "cell_type": "code",
   "execution_count": 47,
   "metadata": {},
   "outputs": [
    {
     "data": {
      "text/plain": [
       "{'Name': 'DecisionTreeClassifier',\n",
       " 'Training FDR': 0.6144,\n",
       " 'Test FDR': 0.5611,\n",
       " 'OOT_FDR': 0.5356}"
      ]
     },
     "execution_count": 47,
     "metadata": {},
     "output_type": "execute_result"
    }
   ],
   "source": [
    "DTScore = scoring(model_tree)\n",
    "DTScore"
   ]
  },
  {
   "cell_type": "code",
   "execution_count": 48,
   "metadata": {},
   "outputs": [],
   "source": [
    "scoreList.append(DTScore)"
   ]
  },
  {
   "cell_type": "markdown",
   "metadata": {},
   "source": [
    "## Adaboost"
   ]
  },
  {
   "cell_type": "code",
   "execution_count": 73,
   "metadata": {},
   "outputs": [
    {
     "data": {
      "text/plain": [
       "AdaBoostClassifier(algorithm='SAMME.R', base_estimator=None,\n",
       "                   learning_rate=0.001, n_estimators=50, random_state=1)"
      ]
     },
     "execution_count": 73,
     "metadata": {},
     "output_type": "execute_result"
    }
   ],
   "source": [
    "model_ada1 = AdaBoostClassifier(learning_rate = 0.001, random_state = 1)\n",
    "model_ada1.fit(X_train_upsampled, y_train_upsampled)"
   ]
  },
  {
   "cell_type": "code",
   "execution_count": 74,
   "metadata": {},
   "outputs": [
    {
     "data": {
      "text/plain": [
       "{'Name': 'AdaBoostClassifier',\n",
       " 'Training FDR': 0.3399,\n",
       " 'Test FDR': 0.3368,\n",
       " 'OOT_FDR': 0.3051}"
      ]
     },
     "execution_count": 74,
     "metadata": {},
     "output_type": "execute_result"
    }
   ],
   "source": [
    "adaScore1 = scoring(model_ada1)\n",
    "adaScore1"
   ]
  },
  {
   "cell_type": "code",
   "execution_count": 75,
   "metadata": {},
   "outputs": [],
   "source": [
    "scoreList.append(adaScore1)"
   ]
  },
  {
   "cell_type": "markdown",
   "metadata": {},
   "source": [
    "## Random Forest"
   ]
  },
  {
   "cell_type": "code",
   "execution_count": 49,
   "metadata": {},
   "outputs": [
    {
     "name": "stderr",
     "output_type": "stream",
     "text": [
      "[Parallel(n_jobs=1)]: Using backend SequentialBackend with 1 concurrent workers.\n",
      "[Parallel(n_jobs=1)]: Done  50 out of  50 | elapsed:  7.1min finished\n"
     ]
    },
    {
     "data": {
      "text/plain": [
       "RandomForestClassifier(bootstrap=True, ccp_alpha=0.0, class_weight=None,\n",
       "                       criterion='gini', max_depth=20, max_features=10,\n",
       "                       max_leaf_nodes=None, max_samples=None,\n",
       "                       min_impurity_decrease=0.0, min_impurity_split=None,\n",
       "                       min_samples_leaf=1, min_samples_split=2,\n",
       "                       min_weight_fraction_leaf=0.0, n_estimators=50,\n",
       "                       n_jobs=None, oob_score=False, random_state=None,\n",
       "                       verbose=True, warm_start=False)"
      ]
     },
     "execution_count": 49,
     "metadata": {},
     "output_type": "execute_result"
    }
   ],
   "source": [
    "model_rf = RandomForestClassifier(n_estimators=50, max_depth = 20, max_features = 10, verbose = True)\n",
    "model_rf.fit(X_train_upsampled, y_train_upsampled)"
   ]
  },
  {
   "cell_type": "code",
   "execution_count": 50,
   "metadata": {},
   "outputs": [
    {
     "name": "stderr",
     "output_type": "stream",
     "text": [
      "[Parallel(n_jobs=1)]: Using backend SequentialBackend with 1 concurrent workers.\n",
      "[Parallel(n_jobs=1)]: Done  50 out of  50 | elapsed:    4.6s finished\n",
      "[Parallel(n_jobs=1)]: Using backend SequentialBackend with 1 concurrent workers.\n",
      "[Parallel(n_jobs=1)]: Done  50 out of  50 | elapsed:    1.3s finished\n",
      "[Parallel(n_jobs=1)]: Using backend SequentialBackend with 1 concurrent workers.\n",
      "[Parallel(n_jobs=1)]: Done  50 out of  50 | elapsed:    0.9s finished\n"
     ]
    },
    {
     "data": {
      "text/plain": [
       "{'Name': 'RandomForestClassifier',\n",
       " 'Training FDR': 0.6296,\n",
       " 'Test FDR': 0.5381,\n",
       " 'OOT_FDR': 0.4401}"
      ]
     },
     "execution_count": 50,
     "metadata": {},
     "output_type": "execute_result"
    }
   ],
   "source": [
    "RFScore = scoring(model_rf)\n",
    "RFScore"
   ]
  },
  {
   "cell_type": "code",
   "execution_count": 51,
   "metadata": {},
   "outputs": [],
   "source": [
    "scoreList.append(RFScore)"
   ]
  },
  {
   "cell_type": "markdown",
   "metadata": {},
   "source": [
    "## Random Forest 2"
   ]
  },
  {
   "cell_type": "code",
   "execution_count": 67,
   "metadata": {},
   "outputs": [],
   "source": [
    "model_rf2 = RandomForestClassifier(bootstrap = False, ccp_alpha = 0.0, class_weight = None, criterion = 'gini', \n",
    "                             max_depth = 5, max_features = 5, max_leaf_nodes = None, max_samples = None,\n",
    "                             min_impurity_decrease = 0.0, min_impurity_split = None, min_samples_leaf = 2,\n",
    "                             min_samples_split = 3, min_weight_fraction_leaf = 0.0, n_estimators = 100,\n",
    "                             n_jobs = None, oob_score = False, random_state = None, verbose = 0, \n",
    "                             warm_start = False)"
   ]
  },
  {
   "cell_type": "code",
   "execution_count": 68,
   "metadata": {},
   "outputs": [
    {
     "data": {
      "text/plain": [
       "RandomForestClassifier(bootstrap=False, ccp_alpha=0.0, class_weight=None,\n",
       "                       criterion='gini', max_depth=5, max_features=5,\n",
       "                       max_leaf_nodes=None, max_samples=None,\n",
       "                       min_impurity_decrease=0.0, min_impurity_split=None,\n",
       "                       min_samples_leaf=2, min_samples_split=3,\n",
       "                       min_weight_fraction_leaf=0.0, n_estimators=100,\n",
       "                       n_jobs=None, oob_score=False, random_state=None,\n",
       "                       verbose=0, warm_start=False)"
      ]
     },
     "execution_count": 68,
     "metadata": {},
     "output_type": "execute_result"
    }
   ],
   "source": [
    "model_rf2.fit(X_train_upsampled, y_train_upsampled)"
   ]
  },
  {
   "cell_type": "code",
   "execution_count": 70,
   "metadata": {},
   "outputs": [
    {
     "data": {
      "text/plain": [
       "{'Name': 'RandomForestClassifier',\n",
       " 'Training FDR': 0.5598,\n",
       " 'Test FDR': 0.5521,\n",
       " 'OOT_FDR': 0.5289}"
      ]
     },
     "execution_count": 70,
     "metadata": {},
     "output_type": "execute_result"
    }
   ],
   "source": [
    "RFScore2 = scoring(model_rf2)\n",
    "RFScore2"
   ]
  },
  {
   "cell_type": "code",
   "execution_count": 71,
   "metadata": {},
   "outputs": [],
   "source": [
    "scoreList.append(RFScore2)"
   ]
  },
  {
   "cell_type": "markdown",
   "metadata": {},
   "source": [
    "## Neural Network"
   ]
  },
  {
   "cell_type": "code",
   "execution_count": 52,
   "metadata": {},
   "outputs": [
    {
     "name": "stderr",
     "output_type": "stream",
     "text": [
      "/Users/XinyiGuo/anaconda3/lib/python3.7/site-packages/sklearn/neural_network/_multilayer_perceptron.py:573: UserWarning: Training interrupted by user.\n",
      "  warnings.warn(\"Training interrupted by user.\")\n"
     ]
    },
    {
     "data": {
      "text/plain": [
       "MLPClassifier(activation='tanh', alpha=0.0001, batch_size='auto', beta_1=0.9,\n",
       "              beta_2=0.999, early_stopping=False, epsilon=1e-08,\n",
       "              hidden_layer_sizes=(15, 20), learning_rate='adaptive',\n",
       "              learning_rate_init=0.001, max_fun=15000, max_iter=200,\n",
       "              momentum=0.9, n_iter_no_change=10, nesterovs_momentum=True,\n",
       "              power_t=0.5, random_state=None, shuffle=True, solver='adam',\n",
       "              tol=0.0001, validation_fraction=0.1, verbose=False,\n",
       "              warm_start=False)"
      ]
     },
     "execution_count": 52,
     "metadata": {},
     "output_type": "execute_result"
    }
   ],
   "source": [
    "params = {'solver': 'adam',\n",
    "   'learning_rate': 'adaptive',\n",
    "   'hidden_layer_sizes': (15, 20),\n",
    "   'alpha': 0.0001,\n",
    "   'activation': 'tanh'}\n",
    "NN = MLPClassifier(**params)\n",
    "NN.fit(X_train_upsampled, y_train_upsampled)"
   ]
  },
  {
   "cell_type": "code",
   "execution_count": 53,
   "metadata": {},
   "outputs": [
    {
     "data": {
      "text/plain": [
       "{'Name': 'MLPClassifier',\n",
       " 'Training FDR': 0.5854,\n",
       " 'Test FDR': 0.5657,\n",
       " 'OOT_FDR': 0.5457}"
      ]
     },
     "execution_count": 53,
     "metadata": {},
     "output_type": "execute_result"
    }
   ],
   "source": [
    "NNScore = scoring(NN)\n",
    "NNScore"
   ]
  },
  {
   "cell_type": "code",
   "execution_count": 54,
   "metadata": {},
   "outputs": [],
   "source": [
    "scoreList.append(NNScore)"
   ]
  },
  {
   "cell_type": "markdown",
   "metadata": {},
   "source": [
    "## Neural network 2"
   ]
  },
  {
   "cell_type": "code",
   "execution_count": 79,
   "metadata": {},
   "outputs": [
    {
     "name": "stderr",
     "output_type": "stream",
     "text": [
      "/Users/XinyiGuo/anaconda3/lib/python3.7/site-packages/sklearn/neural_network/_multilayer_perceptron.py:470: ConvergenceWarning: lbfgs failed to converge (status=1):\n",
      "STOP: TOTAL NO. of ITERATIONS REACHED LIMIT.\n",
      "\n",
      "Increase the number of iterations (max_iter) or scale the data as shown in:\n",
      "    https://scikit-learn.org/stable/modules/preprocessing.html\n",
      "  self.n_iter_ = _check_optimize_result(\"lbfgs\", opt_res, self.max_iter)\n"
     ]
    },
    {
     "data": {
      "text/plain": [
       "MLPClassifier(activation='relu', alpha=1e-05, batch_size='auto', beta_1=0.9,\n",
       "              beta_2=0.999, early_stopping=False, epsilon=1e-08,\n",
       "              hidden_layer_sizes=(6,), learning_rate='constant',\n",
       "              learning_rate_init=0.001, max_fun=15000, max_iter=200,\n",
       "              momentum=0.9, n_iter_no_change=10, nesterovs_momentum=True,\n",
       "              power_t=0.5, random_state=1, shuffle=True, solver='lbfgs',\n",
       "              tol=0.0001, validation_fraction=0.1, verbose=True,\n",
       "              warm_start=False)"
      ]
     },
     "execution_count": 79,
     "metadata": {},
     "output_type": "execute_result"
    }
   ],
   "source": [
    "NN2 = MLPClassifier(solver ='lbfgs', alpha=1e-5, hidden_layer_sizes=(15,20), random_state=1, verbose = True)\n",
    "NN2.fit(X_train_upsampled, y_train_upsampled)"
   ]
  },
  {
   "cell_type": "code",
   "execution_count": 89,
   "metadata": {},
   "outputs": [
    {
     "data": {
      "text/plain": [
       "{'Name': 'MLPClassifier',\n",
       " 'Training FDR': 0.576,\n",
       " 'Test FDR': 0.5698,\n",
       " 'OOT_FDR': 0.5528}"
      ]
     },
     "execution_count": 89,
     "metadata": {},
     "output_type": "execute_result"
    }
   ],
   "source": [
    "NNScore2 = scoring(NN2)\n",
    "NNScore2"
   ]
  },
  {
   "cell_type": "code",
   "execution_count": 82,
   "metadata": {},
   "outputs": [],
   "source": [
    "scoreList.append(NNScore2)"
   ]
  },
  {
   "cell_type": "code",
   "execution_count": 115,
   "metadata": {},
   "outputs": [],
   "source": [
    "pred_train = NN2.predict(X_train_upsampled)"
   ]
  },
  {
   "cell_type": "code",
   "execution_count": 116,
   "metadata": {},
   "outputs": [
    {
     "name": "stdout",
     "output_type": "stream",
     "text": [
      "Training auc score 0.7773793802924278\n"
     ]
    }
   ],
   "source": [
    "print('Training auc score', roc_auc_score(y_train_upsampled, pred_train))"
   ]
  },
  {
   "cell_type": "code",
   "execution_count": 98,
   "metadata": {},
   "outputs": [],
   "source": [
    "pred_test = NN2.predict(X_test)"
   ]
  },
  {
   "cell_type": "code",
   "execution_count": 101,
   "metadata": {},
   "outputs": [
    {
     "data": {
      "text/plain": [
       "0.9769910792003985"
      ]
     },
     "execution_count": 101,
     "metadata": {},
     "output_type": "execute_result"
    }
   ],
   "source": [
    "accuracy_score(y_test, pred_test)"
   ]
  },
  {
   "cell_type": "code",
   "execution_count": 100,
   "metadata": {},
   "outputs": [
    {
     "data": {
      "text/plain": [
       "0.5663531870428422"
      ]
     },
     "execution_count": 100,
     "metadata": {},
     "output_type": "execute_result"
    }
   ],
   "source": [
    "recall_score(y_test, pred_test)"
   ]
  },
  {
   "cell_type": "code",
   "execution_count": 114,
   "metadata": {},
   "outputs": [
    {
     "name": "stdout",
     "output_type": "stream",
     "text": [
      "Testing auc score: 0.774681509846889\n"
     ]
    }
   ],
   "source": [
    "print('Testing auc score:', roc_auc_score(y_test, pred_test))"
   ]
  },
  {
   "cell_type": "code",
   "execution_count": 109,
   "metadata": {},
   "outputs": [],
   "source": [
    "oot_pred = NN2.predict(OOT_X)"
   ]
  },
  {
   "cell_type": "code",
   "execution_count": 113,
   "metadata": {},
   "outputs": [
    {
     "name": "stdout",
     "output_type": "stream",
     "text": [
      "OOT auc score: 0.7650323653912326\n"
     ]
    }
   ],
   "source": [
    "print('OOT auc score:', roc_auc_score(OOT_y, oot_pred))"
   ]
  },
  {
   "cell_type": "code",
   "execution_count": 119,
   "metadata": {},
   "outputs": [],
   "source": [
    "fpr,tpr,threshold = roc_curve(OOT_y, oot_pred)"
   ]
  },
  {
   "cell_type": "code",
   "execution_count": 123,
   "metadata": {},
   "outputs": [],
   "source": [
    "roc_auc = auc(fpr,tpr)"
   ]
  },
  {
   "cell_type": "code",
   "execution_count": 124,
   "metadata": {},
   "outputs": [
    {
     "data": {
      "text/plain": [
       "<Figure size 432x288 with 0 Axes>"
      ]
     },
     "metadata": {},
     "output_type": "display_data"
    },
    {
     "data": {
      "image/png": "[encoded data removed]",
      "text/plain": [
       "<Figure size 720x720 with 1 Axes>"
      ]
     },
     "metadata": {
      "needs_background": "light"
     },
     "output_type": "display_data"
    }
   ],
   "source": [
    "plt.figure()\n",
    "plt.figure(figsize=(10,10))\n",
    "plt.plot(fpr, tpr, color='darkorange',\n",
    "lw=2, label='ROC curve (area = {0:.4f})'.format(roc_auc))\n",
    "plt.plot([0, 1], [0, 1], color='navy', lw=2, linestyle='--') # lw is linewidth\n",
    "plt.xlim([0.0, 1.0])\n",
    "plt.ylim([0.0, 1.05])\n",
    "plt.xlabel('False Positive Rate')\n",
    "plt.ylabel('True Positive Rate')\n",
    "plt.title('Receiver operating characteristic example')\n",
    "plt.legend(loc=\"lower right\")\n",
    "plt.show()"
   ]
  },
  {
   "cell_type": "markdown",
   "metadata": {},
   "source": [
    "## Neural Network 2 with different alpha "
   ]
  },
  {
   "cell_type": "code",
   "execution_count": 105,
   "metadata": {},
   "outputs": [
    {
     "name": "stderr",
     "output_type": "stream",
     "text": [
      "/Users/XinyiGuo/anaconda3/lib/python3.7/site-packages/sklearn/neural_network/_multilayer_perceptron.py:470: ConvergenceWarning: lbfgs failed to converge (status=1):\n",
      "STOP: TOTAL NO. of ITERATIONS REACHED LIMIT.\n",
      "\n",
      "Increase the number of iterations (max_iter) or scale the data as shown in:\n",
      "    https://scikit-learn.org/stable/modules/preprocessing.html\n",
      "  self.n_iter_ = _check_optimize_result(\"lbfgs\", opt_res, self.max_iter)\n"
     ]
    },
    {
     "data": {
      "text/plain": [
       "MLPClassifier(activation='relu', alpha=0.0001, batch_size='auto', beta_1=0.9,\n",
       "              beta_2=0.999, early_stopping=False, epsilon=1e-08,\n",
       "              hidden_layer_sizes=(15, 20), learning_rate='constant',\n",
       "              learning_rate_init=0.001, max_fun=15000, max_iter=200,\n",
       "              momentum=0.9, n_iter_no_change=10, nesterovs_momentum=True,\n",
       "              power_t=0.5, random_state=1, shuffle=True, solver='lbfgs',\n",
       "              tol=0.0001, validation_fraction=0.1, verbose=True,\n",
       "              warm_start=False)"
      ]
     },
     "execution_count": 105,
     "metadata": {},
     "output_type": "execute_result"
    }
   ],
   "source": [
    "NN2_1 = MLPClassifier(solver ='lbfgs', alpha=1e-4, hidden_layer_sizes=(15,20), random_state=1, verbose = True)\n",
    "NN2_1.fit(X_train_upsampled, y_train_upsampled)"
   ]
  },
  {
   "cell_type": "code",
   "execution_count": 106,
   "metadata": {
    "scrolled": true
   },
   "outputs": [
    {
     "data": {
      "text/plain": [
       "{'Name': 'MLPClassifier',\n",
       " 'Training FDR': 0.5808,\n",
       " 'Test FDR': 0.5688,\n",
       " 'OOT_FDR': 0.5482}"
      ]
     },
     "execution_count": 106,
     "metadata": {},
     "output_type": "execute_result"
    }
   ],
   "source": [
    "NNScore2_1 = scoring(NN2_1)\n",
    "NNScore2_1"
   ]
  },
  {
   "cell_type": "markdown",
   "metadata": {},
   "source": [
    "## Neural Network 3 "
   ]
  },
  {
   "cell_type": "code",
   "execution_count": 96,
   "metadata": {},
   "outputs": [
    {
     "name": "stderr",
     "output_type": "stream",
     "text": [
      "/Users/XinyiGuo/anaconda3/lib/python3.7/site-packages/sklearn/neural_network/_multilayer_perceptron.py:470: ConvergenceWarning: lbfgs failed to converge (status=1):\n",
      "STOP: TOTAL NO. of ITERATIONS REACHED LIMIT.\n",
      "\n",
      "Increase the number of iterations (max_iter) or scale the data as shown in:\n",
      "    https://scikit-learn.org/stable/modules/preprocessing.html\n",
      "  self.n_iter_ = _check_optimize_result(\"lbfgs\", opt_res, self.max_iter)\n"
     ]
    },
    {
     "data": {
      "text/plain": [
       "MLPClassifier(activation='relu', alpha=1e-05, batch_size='auto', beta_1=0.9,\n",
       "              beta_2=0.999, early_stopping=False, epsilon=1e-08,\n",
       "              hidden_layer_sizes=(6,), learning_rate='constant',\n",
       "              learning_rate_init=0.001, max_fun=15000, max_iter=200,\n",
       "              momentum=0.9, n_iter_no_change=10, nesterovs_momentum=True,\n",
       "              power_t=0.5, random_state=1, shuffle=True, solver='lbfgs',\n",
       "              tol=0.0001, validation_fraction=0.1, verbose=True,\n",
       "              warm_start=False)"
      ]
     },
     "execution_count": 96,
     "metadata": {},
     "output_type": "execute_result"
    }
   ],
   "source": [
    "NN3 = MLPClassifier(solver ='lbfgs', alpha=1e-4, hidden_layer_sizes=(6,), random_state=1, verbose = True)\n",
    "NN3.fit(X_train_upsampled, y_train_upsampled)"
   ]
  },
  {
   "cell_type": "code",
   "execution_count": 97,
   "metadata": {
    "scrolled": true
   },
   "outputs": [
    {
     "data": {
      "text/plain": [
       "{'Name': 'MLPClassifier',\n",
       " 'Training FDR': 0.576,\n",
       " 'Test FDR': 0.5698,\n",
       " 'OOT_FDR': 0.5528}"
      ]
     },
     "execution_count": 97,
     "metadata": {},
     "output_type": "execute_result"
    }
   ],
   "source": [
    "NNScore3 = scoring(NN3)\n",
    "NNScore3"
   ]
  },
  {
   "cell_type": "markdown",
   "metadata": {},
   "source": [
    "## Neural Network 4"
   ]
  },
  {
   "cell_type": "code",
   "execution_count": 102,
   "metadata": {},
   "outputs": [
    {
     "name": "stderr",
     "output_type": "stream",
     "text": [
      "/Users/XinyiGuo/anaconda3/lib/python3.7/site-packages/sklearn/neural_network/_multilayer_perceptron.py:470: ConvergenceWarning: lbfgs failed to converge (status=1):\n",
      "STOP: TOTAL NO. of ITERATIONS REACHED LIMIT.\n",
      "\n",
      "Increase the number of iterations (max_iter) or scale the data as shown in:\n",
      "    https://scikit-learn.org/stable/modules/preprocessing.html\n",
      "  self.n_iter_ = _check_optimize_result(\"lbfgs\", opt_res, self.max_iter)\n"
     ]
    },
    {
     "data": {
      "text/plain": [
       "MLPClassifier(activation='relu', alpha=1e-05, batch_size='auto', beta_1=0.9,\n",
       "              beta_2=0.999, early_stopping=False, epsilon=1e-08,\n",
       "              hidden_layer_sizes=(10, 30), learning_rate='constant',\n",
       "              learning_rate_init=0.001, max_fun=15000, max_iter=200,\n",
       "              momentum=0.9, n_iter_no_change=10, nesterovs_momentum=True,\n",
       "              power_t=0.5, random_state=1, shuffle=True, solver='lbfgs',\n",
       "              tol=0.0001, validation_fraction=0.1, verbose=True,\n",
       "              warm_start=False)"
      ]
     },
     "execution_count": 102,
     "metadata": {},
     "output_type": "execute_result"
    }
   ],
   "source": [
    "NN4 = MLPClassifier(solver ='lbfgs', alpha=1e-5, hidden_layer_sizes=(10,30), random_state=1, verbose = True)\n",
    "NN4.fit(X_train_upsampled, y_train_upsampled)"
   ]
  },
  {
   "cell_type": "code",
   "execution_count": 103,
   "metadata": {},
   "outputs": [
    {
     "data": {
      "text/plain": [
       "{'Name': 'MLPClassifier',\n",
       " 'Training FDR': 0.5784,\n",
       " 'Test FDR': 0.5695,\n",
       " 'OOT_FDR': 0.549}"
      ]
     },
     "execution_count": 103,
     "metadata": {},
     "output_type": "execute_result"
    }
   ],
   "source": [
    "NNScore4 = scoring(NN4)\n",
    "NNScore4"
   ]
  },
  {
   "cell_type": "markdown",
   "metadata": {},
   "source": [
    "## Neural network 5"
   ]
  },
  {
   "cell_type": "code",
   "execution_count": 125,
   "metadata": {},
   "outputs": [
    {
     "name": "stderr",
     "output_type": "stream",
     "text": [
      "/Users/XinyiGuo/anaconda3/lib/python3.7/site-packages/sklearn/neural_network/_multilayer_perceptron.py:470: ConvergenceWarning: lbfgs failed to converge (status=1):\n",
      "STOP: TOTAL NO. of ITERATIONS REACHED LIMIT.\n",
      "\n",
      "Increase the number of iterations (max_iter) or scale the data as shown in:\n",
      "    https://scikit-learn.org/stable/modules/preprocessing.html\n",
      "  self.n_iter_ = _check_optimize_result(\"lbfgs\", opt_res, self.max_iter)\n"
     ]
    },
    {
     "data": {
      "text/plain": [
       "MLPClassifier(activation='relu', alpha=1e-06, batch_size='auto', beta_1=0.9,\n",
       "              beta_2=0.999, early_stopping=False, epsilon=1e-08,\n",
       "              hidden_layer_sizes=(15, 20), learning_rate='constant',\n",
       "              learning_rate_init=0.001, max_fun=15000, max_iter=200,\n",
       "              momentum=0.9, n_iter_no_change=10, nesterovs_momentum=True,\n",
       "              power_t=0.5, random_state=1, shuffle=True, solver='lbfgs',\n",
       "              tol=0.0001, validation_fraction=0.1, verbose=True,\n",
       "              warm_start=False)"
      ]
     },
     "execution_count": 125,
     "metadata": {},
     "output_type": "execute_result"
    }
   ],
   "source": [
    "NN5 = MLPClassifier(solver ='lbfgs', alpha=1e-6, hidden_layer_sizes=(15,20), random_state=1, verbose = True)\n",
    "NN5.fit(X_train_upsampled, y_train_upsampled)"
   ]
  },
  {
   "cell_type": "code",
   "execution_count": 126,
   "metadata": {},
   "outputs": [
    {
     "data": {
      "text/plain": [
       "{'Name': 'MLPClassifier',\n",
       " 'Training FDR': 0.5792,\n",
       " 'Test FDR': 0.5709,\n",
       " 'OOT_FDR': 0.5495}"
      ]
     },
     "execution_count": 126,
     "metadata": {},
     "output_type": "execute_result"
    }
   ],
   "source": [
    "NNScore2 = scoring(NN5)\n",
    "NNScore2"
   ]
  },
  {
   "cell_type": "markdown",
   "metadata": {},
   "source": [
    "## Neural Network 6 Randomized Search"
   ]
  },
  {
   "cell_type": "code",
   "execution_count": 128,
   "metadata": {},
   "outputs": [
    {
     "ename": "KeyboardInterrupt",
     "evalue": "",
     "output_type": "error",
     "traceback": [
      "\u001b[0;31m---------------------------------------------------------------------------\u001b[0m",
      "\u001b[0;31mKeyboardInterrupt\u001b[0m                         Traceback (most recent call last)",
      "\u001b[0;32m<ipython-input-128-7dea3a14ad03>\u001b[0m in \u001b[0;36m<module>\u001b[0;34m\u001b[0m\n\u001b[1;32m      8\u001b[0m }\n\u001b[1;32m      9\u001b[0m \u001b[0mrand_search\u001b[0m \u001b[0;34m=\u001b[0m \u001b[0mRandomizedSearchCV\u001b[0m\u001b[0;34m(\u001b[0m\u001b[0mNN\u001b[0m\u001b[0;34m,\u001b[0m \u001b[0mparam_distributions\u001b[0m \u001b[0;34m=\u001b[0m \u001b[0mparameter_space\u001b[0m\u001b[0;34m,\u001b[0m \u001b[0mn_iter\u001b[0m \u001b[0;34m=\u001b[0m \u001b[0;36m100\u001b[0m\u001b[0;34m,\u001b[0m \u001b[0mn_jobs\u001b[0m \u001b[0;34m=\u001b[0m \u001b[0;36m4\u001b[0m\u001b[0;34m,\u001b[0m \u001b[0mcv\u001b[0m \u001b[0;34m=\u001b[0m \u001b[0;36m5\u001b[0m\u001b[0;34m,\u001b[0m \u001b[0mrandom_state\u001b[0m \u001b[0;34m=\u001b[0m \u001b[0;36m2017\u001b[0m\u001b[0;34m,\u001b[0m \u001b[0mscoring\u001b[0m \u001b[0;34m=\u001b[0m \u001b[0;34m'roc_auc'\u001b[0m\u001b[0;34m)\u001b[0m\u001b[0;34m\u001b[0m\u001b[0;34m\u001b[0m\u001b[0m\n\u001b[0;32m---> 10\u001b[0;31m \u001b[0mrand_search\u001b[0m\u001b[0;34m.\u001b[0m\u001b[0mfit\u001b[0m\u001b[0;34m(\u001b[0m\u001b[0mX_train_upsampled\u001b[0m\u001b[0;34m,\u001b[0m \u001b[0my_train_upsampled\u001b[0m\u001b[0;34m)\u001b[0m\u001b[0;34m\u001b[0m\u001b[0;34m\u001b[0m\u001b[0m\n\u001b[0m\u001b[1;32m     11\u001b[0m \u001b[0mrand_search\u001b[0m\u001b[0;34m.\u001b[0m\u001b[0mcv_results_\u001b[0m\u001b[0;34m\u001b[0m\u001b[0;34m\u001b[0m\u001b[0m\n",
      "\u001b[0;32m~/anaconda3/lib/python3.7/site-packages/sklearn/model_selection/_search.py\u001b[0m in \u001b[0;36mfit\u001b[0;34m(self, X, y, groups, **fit_params)\u001b[0m\n\u001b[1;32m    708\u001b[0m                 \u001b[0;32mreturn\u001b[0m \u001b[0mresults\u001b[0m\u001b[0;34m\u001b[0m\u001b[0;34m\u001b[0m\u001b[0m\n\u001b[1;32m    709\u001b[0m \u001b[0;34m\u001b[0m\u001b[0m\n\u001b[0;32m--> 710\u001b[0;31m             \u001b[0mself\u001b[0m\u001b[0;34m.\u001b[0m\u001b[0m_run_search\u001b[0m\u001b[0;34m(\u001b[0m\u001b[0mevaluate_candidates\u001b[0m\u001b[0;34m)\u001b[0m\u001b[0;34m\u001b[0m\u001b[0;34m\u001b[0m\u001b[0m\n\u001b[0m\u001b[1;32m    711\u001b[0m \u001b[0;34m\u001b[0m\u001b[0m\n\u001b[1;32m    712\u001b[0m         \u001b[0;31m# For multi-metric evaluation, store the best_index_, best_params_ and\u001b[0m\u001b[0;34m\u001b[0m\u001b[0;34m\u001b[0m\u001b[0;34m\u001b[0m\u001b[0m\n",
      "\u001b[0;32m~/anaconda3/lib/python3.7/site-packages/sklearn/model_selection/_search.py\u001b[0m in \u001b[0;36m_run_search\u001b[0;34m(self, evaluate_candidates)\u001b[0m\n\u001b[1;32m   1482\u001b[0m         evaluate_candidates(ParameterSampler(\n\u001b[1;32m   1483\u001b[0m             \u001b[0mself\u001b[0m\u001b[0;34m.\u001b[0m\u001b[0mparam_distributions\u001b[0m\u001b[0;34m,\u001b[0m \u001b[0mself\u001b[0m\u001b[0;34m.\u001b[0m\u001b[0mn_iter\u001b[0m\u001b[0;34m,\u001b[0m\u001b[0;34m\u001b[0m\u001b[0;34m\u001b[0m\u001b[0m\n\u001b[0;32m-> 1484\u001b[0;31m             random_state=self.random_state))\n\u001b[0m",
      "\u001b[0;32m~/anaconda3/lib/python3.7/site-packages/sklearn/model_selection/_search.py\u001b[0m in \u001b[0;36mevaluate_candidates\u001b[0;34m(candidate_params)\u001b[0m\n\u001b[1;32m    687\u001b[0m                                \u001b[0;32mfor\u001b[0m \u001b[0mparameters\u001b[0m\u001b[0;34m,\u001b[0m \u001b[0;34m(\u001b[0m\u001b[0mtrain\u001b[0m\u001b[0;34m,\u001b[0m \u001b[0mtest\u001b[0m\u001b[0;34m)\u001b[0m\u001b[0;34m\u001b[0m\u001b[0;34m\u001b[0m\u001b[0m\n\u001b[1;32m    688\u001b[0m                                in product(candidate_params,\n\u001b[0;32m--> 689\u001b[0;31m                                           cv.split(X, y, groups)))\n\u001b[0m\u001b[1;32m    690\u001b[0m \u001b[0;34m\u001b[0m\u001b[0m\n\u001b[1;32m    691\u001b[0m                 \u001b[0;32mif\u001b[0m \u001b[0mlen\u001b[0m\u001b[0;34m(\u001b[0m\u001b[0mout\u001b[0m\u001b[0;34m)\u001b[0m \u001b[0;34m<\u001b[0m \u001b[0;36m1\u001b[0m\u001b[0;34m:\u001b[0m\u001b[0;34m\u001b[0m\u001b[0;34m\u001b[0m\u001b[0m\n",
      "\u001b[0;32m~/anaconda3/lib/python3.7/site-packages/joblib/parallel.py\u001b[0m in \u001b[0;36m__call__\u001b[0;34m(self, iterable)\u001b[0m\n\u001b[1;32m   1015\u001b[0m \u001b[0;34m\u001b[0m\u001b[0m\n\u001b[1;32m   1016\u001b[0m             \u001b[0;32mwith\u001b[0m \u001b[0mself\u001b[0m\u001b[0;34m.\u001b[0m\u001b[0m_backend\u001b[0m\u001b[0;34m.\u001b[0m\u001b[0mretrieval_context\u001b[0m\u001b[0;34m(\u001b[0m\u001b[0;34m)\u001b[0m\u001b[0;34m:\u001b[0m\u001b[0;34m\u001b[0m\u001b[0;34m\u001b[0m\u001b[0m\n\u001b[0;32m-> 1017\u001b[0;31m                 \u001b[0mself\u001b[0m\u001b[0;34m.\u001b[0m\u001b[0mretrieve\u001b[0m\u001b[0;34m(\u001b[0m\u001b[0;34m)\u001b[0m\u001b[0;34m\u001b[0m\u001b[0;34m\u001b[0m\u001b[0m\n\u001b[0m\u001b[1;32m   1018\u001b[0m             \u001b[0;31m# Make sure that we get a last message telling us we are done\u001b[0m\u001b[0;34m\u001b[0m\u001b[0;34m\u001b[0m\u001b[0;34m\u001b[0m\u001b[0m\n\u001b[1;32m   1019\u001b[0m             \u001b[0melapsed_time\u001b[0m \u001b[0;34m=\u001b[0m \u001b[0mtime\u001b[0m\u001b[0;34m.\u001b[0m\u001b[0mtime\u001b[0m\u001b[0;34m(\u001b[0m\u001b[0;34m)\u001b[0m \u001b[0;34m-\u001b[0m \u001b[0mself\u001b[0m\u001b[0;34m.\u001b[0m\u001b[0m_start_time\u001b[0m\u001b[0;34m\u001b[0m\u001b[0;34m\u001b[0m\u001b[0m\n",
      "\u001b[0;32m~/anaconda3/lib/python3.7/site-packages/joblib/parallel.py\u001b[0m in \u001b[0;36mretrieve\u001b[0;34m(self)\u001b[0m\n\u001b[1;32m    907\u001b[0m             \u001b[0;32mtry\u001b[0m\u001b[0;34m:\u001b[0m\u001b[0;34m\u001b[0m\u001b[0;34m\u001b[0m\u001b[0m\n\u001b[1;32m    908\u001b[0m                 \u001b[0;32mif\u001b[0m \u001b[0mgetattr\u001b[0m\u001b[0;34m(\u001b[0m\u001b[0mself\u001b[0m\u001b[0;34m.\u001b[0m\u001b[0m_backend\u001b[0m\u001b[0;34m,\u001b[0m \u001b[0;34m'supports_timeout'\u001b[0m\u001b[0;34m,\u001b[0m \u001b[0;32mFalse\u001b[0m\u001b[0;34m)\u001b[0m\u001b[0;34m:\u001b[0m\u001b[0;34m\u001b[0m\u001b[0;34m\u001b[0m\u001b[0m\n\u001b[0;32m--> 909\u001b[0;31m                     \u001b[0mself\u001b[0m\u001b[0;34m.\u001b[0m\u001b[0m_output\u001b[0m\u001b[0;34m.\u001b[0m\u001b[0mextend\u001b[0m\u001b[0;34m(\u001b[0m\u001b[0mjob\u001b[0m\u001b[0;34m.\u001b[0m\u001b[0mget\u001b[0m\u001b[0;34m(\u001b[0m\u001b[0mtimeout\u001b[0m\u001b[0;34m=\u001b[0m\u001b[0mself\u001b[0m\u001b[0;34m.\u001b[0m\u001b[0mtimeout\u001b[0m\u001b[0;34m)\u001b[0m\u001b[0;34m)\u001b[0m\u001b[0;34m\u001b[0m\u001b[0;34m\u001b[0m\u001b[0m\n\u001b[0m\u001b[1;32m    910\u001b[0m                 \u001b[0;32melse\u001b[0m\u001b[0;34m:\u001b[0m\u001b[0;34m\u001b[0m\u001b[0;34m\u001b[0m\u001b[0m\n\u001b[1;32m    911\u001b[0m                     \u001b[0mself\u001b[0m\u001b[0;34m.\u001b[0m\u001b[0m_output\u001b[0m\u001b[0;34m.\u001b[0m\u001b[0mextend\u001b[0m\u001b[0;34m(\u001b[0m\u001b[0mjob\u001b[0m\u001b[0;34m.\u001b[0m\u001b[0mget\u001b[0m\u001b[0;34m(\u001b[0m\u001b[0;34m)\u001b[0m\u001b[0;34m)\u001b[0m\u001b[0;34m\u001b[0m\u001b[0;34m\u001b[0m\u001b[0m\n",
      "\u001b[0;32m~/anaconda3/lib/python3.7/site-packages/joblib/_parallel_backends.py\u001b[0m in \u001b[0;36mwrap_future_result\u001b[0;34m(future, timeout)\u001b[0m\n\u001b[1;32m    560\u001b[0m         AsyncResults.get from multiprocessing.\"\"\"\n\u001b[1;32m    561\u001b[0m         \u001b[0;32mtry\u001b[0m\u001b[0;34m:\u001b[0m\u001b[0;34m\u001b[0m\u001b[0;34m\u001b[0m\u001b[0m\n\u001b[0;32m--> 562\u001b[0;31m             \u001b[0;32mreturn\u001b[0m \u001b[0mfuture\u001b[0m\u001b[0;34m.\u001b[0m\u001b[0mresult\u001b[0m\u001b[0;34m(\u001b[0m\u001b[0mtimeout\u001b[0m\u001b[0;34m=\u001b[0m\u001b[0mtimeout\u001b[0m\u001b[0;34m)\u001b[0m\u001b[0;34m\u001b[0m\u001b[0;34m\u001b[0m\u001b[0m\n\u001b[0m\u001b[1;32m    563\u001b[0m         \u001b[0;32mexcept\u001b[0m \u001b[0mLokyTimeoutError\u001b[0m\u001b[0;34m:\u001b[0m\u001b[0;34m\u001b[0m\u001b[0;34m\u001b[0m\u001b[0m\n\u001b[1;32m    564\u001b[0m             \u001b[0;32mraise\u001b[0m \u001b[0mTimeoutError\u001b[0m\u001b[0;34m(\u001b[0m\u001b[0;34m)\u001b[0m\u001b[0;34m\u001b[0m\u001b[0;34m\u001b[0m\u001b[0m\n",
      "\u001b[0;32m~/anaconda3/lib/python3.7/concurrent/futures/_base.py\u001b[0m in \u001b[0;36mresult\u001b[0;34m(self, timeout)\u001b[0m\n\u001b[1;32m    428\u001b[0m                 \u001b[0;32mreturn\u001b[0m \u001b[0mself\u001b[0m\u001b[0;34m.\u001b[0m\u001b[0m__get_result\u001b[0m\u001b[0;34m(\u001b[0m\u001b[0;34m)\u001b[0m\u001b[0;34m\u001b[0m\u001b[0;34m\u001b[0m\u001b[0m\n\u001b[1;32m    429\u001b[0m \u001b[0;34m\u001b[0m\u001b[0m\n\u001b[0;32m--> 430\u001b[0;31m             \u001b[0mself\u001b[0m\u001b[0;34m.\u001b[0m\u001b[0m_condition\u001b[0m\u001b[0;34m.\u001b[0m\u001b[0mwait\u001b[0m\u001b[0;34m(\u001b[0m\u001b[0mtimeout\u001b[0m\u001b[0;34m)\u001b[0m\u001b[0;34m\u001b[0m\u001b[0;34m\u001b[0m\u001b[0m\n\u001b[0m\u001b[1;32m    431\u001b[0m \u001b[0;34m\u001b[0m\u001b[0m\n\u001b[1;32m    432\u001b[0m             \u001b[0;32mif\u001b[0m \u001b[0mself\u001b[0m\u001b[0;34m.\u001b[0m\u001b[0m_state\u001b[0m \u001b[0;32min\u001b[0m \u001b[0;34m[\u001b[0m\u001b[0mCANCELLED\u001b[0m\u001b[0;34m,\u001b[0m \u001b[0mCANCELLED_AND_NOTIFIED\u001b[0m\u001b[0;34m]\u001b[0m\u001b[0;34m:\u001b[0m\u001b[0;34m\u001b[0m\u001b[0;34m\u001b[0m\u001b[0m\n",
      "\u001b[0;32m~/anaconda3/lib/python3.7/threading.py\u001b[0m in \u001b[0;36mwait\u001b[0;34m(self, timeout)\u001b[0m\n\u001b[1;32m    294\u001b[0m         \u001b[0;32mtry\u001b[0m\u001b[0;34m:\u001b[0m    \u001b[0;31m# restore state no matter what (e.g., KeyboardInterrupt)\u001b[0m\u001b[0;34m\u001b[0m\u001b[0;34m\u001b[0m\u001b[0m\n\u001b[1;32m    295\u001b[0m             \u001b[0;32mif\u001b[0m \u001b[0mtimeout\u001b[0m \u001b[0;32mis\u001b[0m \u001b[0;32mNone\u001b[0m\u001b[0;34m:\u001b[0m\u001b[0;34m\u001b[0m\u001b[0;34m\u001b[0m\u001b[0m\n\u001b[0;32m--> 296\u001b[0;31m                 \u001b[0mwaiter\u001b[0m\u001b[0;34m.\u001b[0m\u001b[0macquire\u001b[0m\u001b[0;34m(\u001b[0m\u001b[0;34m)\u001b[0m\u001b[0;34m\u001b[0m\u001b[0;34m\u001b[0m\u001b[0m\n\u001b[0m\u001b[1;32m    297\u001b[0m                 \u001b[0mgotit\u001b[0m \u001b[0;34m=\u001b[0m \u001b[0;32mTrue\u001b[0m\u001b[0;34m\u001b[0m\u001b[0;34m\u001b[0m\u001b[0m\n\u001b[1;32m    298\u001b[0m             \u001b[0;32melse\u001b[0m\u001b[0;34m:\u001b[0m\u001b[0;34m\u001b[0m\u001b[0;34m\u001b[0m\u001b[0m\n",
      "\u001b[0;31mKeyboardInterrupt\u001b[0m: "
     ]
    }
   ],
   "source": [
    "NN6 = MLPClassifier(random_state = 1)\n",
    "parameter_space = {\n",
    "    'hidden_layer_sizes': [(20, ), (25, ), (15, 20), (6,), (20,30), (10, 30), (5, 10, 5), (20,20), (30,50)],\n",
    "    'activation': ['tanh', 'relu'],\n",
    "    'solver': ['lbfgs', 'adam'],\n",
    "    'alpha': [0.0001, 0.05, 0.01, 0.00001],\n",
    "    'learning_rate': ['constant','adaptive'],\n",
    "}\n",
    "rand_search = RandomizedSearchCV(NN, param_distributions = parameter_space, n_iter = 100, n_jobs = 4, cv = 5, random_state = 2017, scoring = 'roc_auc') \n",
    "rand_search.fit(X_train_upsampled, y_train_upsampled) \n",
    "rand_search.cv_results_"
   ]
  },
  {
   "cell_type": "code",
   "execution_count": null,
   "metadata": {},
   "outputs": [],
   "source": [
    "rand_search.best_params_"
   ]
  },
  {
   "cell_type": "code",
   "execution_count": null,
   "metadata": {},
   "outputs": [],
   "source": [
    "scoring(rand_search)"
   ]
  },
  {
   "cell_type": "markdown",
   "metadata": {},
   "source": [
    "## SVM"
   ]
  },
  {
   "cell_type": "markdown",
   "metadata": {},
   "source": [
    "svm = SVC(kernel='linear', C=1E10)\n",
    "svm.fit(X_train_upsampled, y_train_upsampled)"
   ]
  },
  {
   "cell_type": "markdown",
   "metadata": {},
   "source": [
    "scoring(svm)"
   ]
  },
  {
   "cell_type": "markdown",
   "metadata": {},
   "source": [
    "### Creating model score DF"
   ]
  },
  {
   "cell_type": "code",
   "execution_count": 83,
   "metadata": {},
   "outputs": [],
   "source": [
    "scoreDf = pd.DataFrame(scoreList) "
   ]
  },
  {
   "cell_type": "code",
   "execution_count": 86,
   "metadata": {
    "scrolled": true
   },
   "outputs": [
    {
     "data": {
      "text/html": [
       "<div>\n",
       "<style scoped>\n",
       "    .dataframe tbody tr th:only-of-type {\n",
       "        vertical-align: middle;\n",
       "    }\n",
       "\n",
       "    .dataframe tbody tr th {\n",
       "        vertical-align: top;\n",
       "    }\n",
       "\n",
       "    .dataframe thead th {\n",
       "        text-align: right;\n",
       "    }\n",
       "</style>\n",
       "<table border=\"1\" class=\"dataframe\">\n",
       "  <thead>\n",
       "    <tr style=\"text-align: right;\">\n",
       "      <th></th>\n",
       "      <th>Name</th>\n",
       "      <th>Training FDR</th>\n",
       "      <th>Test FDR</th>\n",
       "      <th>OOT_FDR</th>\n",
       "    </tr>\n",
       "  </thead>\n",
       "  <tbody>\n",
       "    <tr>\n",
       "      <th>0</th>\n",
       "      <td>MLPClassifier</td>\n",
       "      <td>0.5760</td>\n",
       "      <td>0.5698</td>\n",
       "      <td>0.5528</td>\n",
       "    </tr>\n",
       "    <tr>\n",
       "      <th>1</th>\n",
       "      <td>XGBClassifier</td>\n",
       "      <td>0.5855</td>\n",
       "      <td>0.5695</td>\n",
       "      <td>0.5511</td>\n",
       "    </tr>\n",
       "    <tr>\n",
       "      <th>2</th>\n",
       "      <td>MLPClassifier</td>\n",
       "      <td>0.5854</td>\n",
       "      <td>0.5657</td>\n",
       "      <td>0.5457</td>\n",
       "    </tr>\n",
       "    <tr>\n",
       "      <th>3</th>\n",
       "      <td>LogisticRegression</td>\n",
       "      <td>0.5647</td>\n",
       "      <td>0.5594</td>\n",
       "      <td>0.5436</td>\n",
       "    </tr>\n",
       "    <tr>\n",
       "      <th>4</th>\n",
       "      <td>DecisionTreeClassifier</td>\n",
       "      <td>0.6144</td>\n",
       "      <td>0.5611</td>\n",
       "      <td>0.5356</td>\n",
       "    </tr>\n",
       "    <tr>\n",
       "      <th>5</th>\n",
       "      <td>RandomForestClassifier</td>\n",
       "      <td>0.5598</td>\n",
       "      <td>0.5521</td>\n",
       "      <td>0.5289</td>\n",
       "    </tr>\n",
       "    <tr>\n",
       "      <th>6</th>\n",
       "      <td>RandomForestClassifier</td>\n",
       "      <td>0.6296</td>\n",
       "      <td>0.5381</td>\n",
       "      <td>0.4401</td>\n",
       "    </tr>\n",
       "    <tr>\n",
       "      <th>7</th>\n",
       "      <td>AdaBoostClassifier</td>\n",
       "      <td>0.3399</td>\n",
       "      <td>0.3368</td>\n",
       "      <td>0.3051</td>\n",
       "    </tr>\n",
       "  </tbody>\n",
       "</table>\n",
       "</div>"
      ],
      "text/plain": [
       "                     Name  Training FDR  Test FDR  OOT_FDR\n",
       "0           MLPClassifier        0.5760    0.5698   0.5528\n",
       "1           XGBClassifier        0.5855    0.5695   0.5511\n",
       "2           MLPClassifier        0.5854    0.5657   0.5457\n",
       "3      LogisticRegression        0.5647    0.5594   0.5436\n",
       "4  DecisionTreeClassifier        0.6144    0.5611   0.5356\n",
       "5  RandomForestClassifier        0.5598    0.5521   0.5289\n",
       "6  RandomForestClassifier        0.6296    0.5381   0.4401\n",
       "7      AdaBoostClassifier        0.3399    0.3368   0.3051"
      ]
     },
     "execution_count": 86,
     "metadata": {},
     "output_type": "execute_result"
    }
   ],
   "source": [
    "scoreDf=scoreDf.sort_values('OOT_FDR', ascending=False).reset_index().drop('index', axis=1)\n",
    "scoreDf"
   ]
  },
  {
   "cell_type": "code",
   "execution_count": 88,
   "metadata": {},
   "outputs": [],
   "source": [
    "#scoreDf.to_csv('scoreDF.csv')"
   ]
  },
  {
   "cell_type": "code",
   "execution_count": null,
   "metadata": {},
   "outputs": [],
   "source": []
  }
 ],
 "metadata": {
  "kernelspec": {
   "display_name": "Python 3",
   "language": "python",
   "name": "python3"
  },
  "language_info": {
   "codemirror_mode": {
    "name": "ipython",
    "version": 3
   },
   "file_extension": ".py",
   "mimetype": "text/x-python",
   "name": "python",
   "nbconvert_exporter": "python",
   "pygments_lexer": "ipython3",
   "version": "3.7.6"
  },
  "varInspector": {
   "cols": {
    "lenName": 16,
    "lenType": 16,
    "lenVar": 40
   },
   "kernels_config": {
    "python": {
     "delete_cmd_postfix": "",
     "delete_cmd_prefix": "del ",
     "library": "var_list.py",
     "varRefreshCmd": "print(var_dic_list())"
    },
    "r": {
     "delete_cmd_postfix": ") ",
     "delete_cmd_prefix": "rm(",
     "library": "var_list.r",
     "varRefreshCmd": "cat(var_dic_list()) "
    }
   },
   "types_to_exclude": [
    "module",
    "function",
    "builtin_function_or_method",
    "instance",
    "_Feature"
   ],
   "window_display": false
  }
 },
 "nbformat": 4,
 "nbformat_minor": 2
}
